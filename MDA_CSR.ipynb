{
 "cells": [
  {
   "cell_type": "code",
   "execution_count": 2,
   "metadata": {
    "collapsed": true
   },
   "outputs": [],
   "source": [
    "import requests\n",
    "import numpy as np\n",
    "import pandas as pd\n",
    "from bs4 import BeautifulSoup\n",
    "import time"
   ]
  },
  {
   "cell_type": "code",
   "execution_count": 20,
   "metadata": {
    "collapsed": false
   },
   "outputs": [
    {
     "name": "stdout",
     "output_type": "stream",
     "text": [
      "[[u''], [u''], [u''], [u''], [u''], [u''], [u''], [u''], [u''], [u''], [u''], [u''], [u''], [u''], [u''], [u''], [u'']]\n"
     ]
    }
   ],
   "source": [
    "url = 'http://internet.csr.nih.gov/Rosters/MemberRoster.aspx?s=ACE'\n",
    "soup=BeautifulSoup(requests.get(url).text,'lxml')\n",
    "gen_data=soup.find_all(\"div\",{\"class\":\"RosterMemberName\"})\n",
    "\n",
    "my_df=[]\n",
    "\n",
    "for item in gen_data:\n",
    "                my_row=[]\n",
    "                #my_row.append(item.find_all(\"h5\",{\"class\":\"listing-address\"})[0].find('span',{'class':'street-address'},).text)\t# street address \n",
    "                #my_row.append(item.find_all('span',{'itemprop':'addressLocality'})[0].text)\t\t\t\t\t\t\t\t\t#city \n",
    "for item in gen_data:\n",
    "    my_row=[]\n",
    "    my_row.append(item.find_all('br')[5].text)        # name\n",
    "    my_df.append(my_row)\n",
    "print my_df\n",
    "#r=requests.get(url)\n",
    "#soup=BeautifulSoup(r.content)"
   ]
  },
  {
   "cell_type": "code",
   "execution_count": 126,
   "metadata": {
    "collapsed": false
   },
   "outputs": [
    {
     "name": "stdout",
     "output_type": "stream",
     "text": [
      "[<bound method Tag.find_all of <div class=\"RosterMemberName\">Tran, Binh Q, PHD (17)<br/>Associate Professor<br/>Department of Biomedical Engineering<br/>Catholic University of America<br/>Washington, DC 20064<br/><br/></div>>]\n"
     ]
    }
   ],
   "source": [
    "url = 'http://internet.csr.nih.gov/Rosters/MemberRoster.aspx?s=ACE'\n",
    "soup=BeautifulSoup(requests.get(url).text,'lxml')\n",
    "gen_data2=soup.find_all(\"div\",{\"class\":\"RosterMemberName\"})\n",
    "ssname=soup.find_all()\n",
    "\n",
    "my_df2=[]\n",
    "\n",
    "for item in gen_data2:\n",
    "                my_row=[]\n",
    "                my_row.append(item.find_all)\t# street address \n",
    "                #my_row.append(item.find_all(\"div\",{\"class\":\"RosterMemberName\"})[2].text)\n",
    "                #my_row.append(item.find_all('span',{'itemprop':'addressLocality'})[0].text)\t\t\t\t\t\t\t\t\t#city \n",
    "print my_row"
   ]
  },
  {
   "cell_type": "code",
   "execution_count": 90,
   "metadata": {
    "collapsed": false
   },
   "outputs": [
    {
     "name": "stdout",
     "output_type": "stream",
     "text": [
      "[u'ACE', u'AIDS Clinical Studies and Epidemiology Study Section', u'Sigmon, Hilary', u'ACTS', u'Arthritis, Connective Tissue and Skin Study Section', u'Belkin, Alexey', u'ADDT', u'AIDS Discovery and Development of Therapeutics Study Section', u'Prasad, Shiv', u'AICS', u'Atherosclerosis and Inflammation of the Cardiovascular System Study Section', u'Komissarova, Natalia', u'AIP', u'AIDS Immunology and Pathogenesis Study Section', u'Prasad, Shiv', u'AMCB', u'AIDS Molecular and Cellular Biology Study Section', u'Roebuck, Kenneth', u'ANIE', u'Acute Neural Injury and Epilepsy Study Section', u'Bhagavan, Seetha', u'AOIC', u'AIDS-associated Opportunistic Infections and Cancer Study Section', u'Montalvo, Eduardo', u'APDA', u'Adult Psychopathology and Disorders of Aging Study Section', u'Chu, Serena', u'ARM', u'Addiction Risks and Mechanisms Study Section', u'Prentice, Kristen', u'ASG', u'Aging Systems and Geriatrics Study Section', u'Beitins, Inese', u'AUD', u'Auditory System Study Section', u'Luethke, Lynn', u'BACP', u'Bacterial Pathogenesis Study Section', u'Scidmore, Marci', u'BBM', u'Biochemistry and Biophysics of Membranes Study Section', u'Assa-Munt, Nuria', u'BCHI', u'Biomedical Computing and Health Informatics Study Section', u'Kozel, Peter', u'BDMA', u'Biodata Management and Analysis Study Section', u'Caprara, Mark', u'BGES', u'Behavioral Genetics and Epidemiology Study Section', u'Vogler, George', u'BINP', u'Brain Injury and Neurovascular Pathologies Study Section', u'Yakovlev, Alexander', u'BMBI', u'Biomaterials and Biointerfaces Study Section', u'Mosca, Joseph', u'BMCT', u'Basic Mechanisms  of Cancer Therapeutics Study Section', u'Rahman Sesay, Lambratu', u'BMIO', u'Behavioral Medicine, Interventions and Outcomes Study Section', u'Mann, Lee', u'BMIT-A', u'Biomedical Imaging Technology A Study Section', u'Grossman, Ruth', u'BMIT-B', u'Biomedical Imaging Technology B Study Section', u'Bradley, Eileen', u'BMRD', u'Biostatistical Methods and Research Design Study Section', u'Kozel, Peter', u'BNVT', u'Bioengineering of Neuroscience, Vision and Low Vision Technologies Study Section', u'Elliott, Robert', u'BPNS', u'Biophysics of Neural Systems Study Section', u'Schofield, Geoffrey', u'BRLE', u'Biobehavioral Regulation, Learning and Ethology Study Section', u'Kelly, Andrea ', u'BSCH', u'Behavioral and Social Consequences of HIV/AIDS Study Section', u'Rubert, Mark', u'BSPH', u'Behavioral and Social Science Approaches to Preventing HIV/AIDS Study Section', u'Guerrier, Jose', u'BTSS', u'Bioengineering, Technology and Surgical Sciences Study Section', u'Masood, Khalid', u'BVS', u'Biology of the Visual System Study Section', u'Chaitin, Michael', u'CADO', u'Cellular Aspects of Diabetes and Obesity Study Section', u'Pileggi, Antonello', u'CAMP', u'Cancer Molecular Pathobiology Study Section', u'Zarger, Manzoor', u'CBSS', u'Cancer Biomarkers Study Section', u'Ng, Lawrence', u'CCHF', u'Cardiac Contractility, Hypertrophy, and Failure Study Section', u'Tjurmina, Olga', u'CDD', u'Cardiovascular Differentiation and Development Study Section', u'Ahlgren, Sara', u'CDIN', u'Chronic Dysfunction and Integrative Neurodegeneration Study Section', u'Kondratyev, Alexei', u'CDP', u'Chemo/Dietary Prevention Study Section', u'Kotliarova, Svetlana', u'CE', u'Cancer Etiology Study Section', u'Howard, Ola Mae', u'CG', u'Cancer Genetics Study Section', u'Bloom, Michael', u'CHSA ', u'Cancer, Heart, and Sleep Epidemiology Panel A', u'Wiesch, Denise', u'CHSB  ', u'Cancer, Heart, and Sleep Epidemiology Panel B', u'Schwartz, Ellen', u'CICS', u'Clinical and Integrative Cardiovascular Sciences Study Section', u'Cheng, Yuanna', u'CIDO', u'Clinical and Integrative Diabetes and Obesity Study Section', u'Chen, Hui', u'CIHB', u'Community Influences on Health Behavior Study Section', u'Liang, Wenchi', u'CII', u'Cancer Immunopathology and Immunotherapy Study Section', u'Shaw, Denise', u'CIMG', u'Clinical, Integrative and Molecular Gastroenterology Study Section', u'Ivins, Jonathan ', u'CLHP', u'Community-Level Health Promotion Study Section', u'Wu, Ping', u'CMAD', u'Cellular Mechanisms in Aging and Development Study Section', u'Burch, John', u'CMBG', u'Cellular and Molecular Biology of Glia Study Section', u'MacArthur, Linda', u'CMIA', u'Cellular and Molecular Immunology - A Study Section', u'Winter, David', u'CMIB', u'Cellular and Molecular Immunology - B Study Section', u'Hayden, Betty', u'CMIP', u'Clinical Molecular Imaging and Probe Development ', u'Wright, Scott', u'CMIR', u'Cellular, Molecular and Integrative Reproduction Study Section', u'Hunnicutt, Gary', u'CMND', u'Cellular and Molecular Biology of Neurodegeneration Study Section', u'Taupenot, Laurent', u'CNBT', u'Clinical Neuroimmunology and Brain Tumors Study Section', u'Zhao, Wei-Qin', u'CNN', u'Clinical Neuroscience and Neurodegeneration Study Section', u'Rovescalli, Alessandra', u'CNNT', u'Clinical Neuroplasticity and Neurotransmitters Study Section', u'Nadi, Suzan', u'CONC', u'Clinical Oncology Study Section', u'Chatterjee, Malaya', u'CP', u'Cognition and Perception Study Section', u'Lindner, Mark', u'CPDD', u'Child Psychopathology and Developmental Disabilities Study Section', u'Doussard-Roosevelt, Jane', u'CRFS', u'Clinical Research and Field Studies of Infectious Diseases Study Section', u'Saadi, Soheyla', u'CSRS', u'Cellular Signaling and Regulatory Systems Study Section', u'Smirnova, Elena', u'DBD', u'Developmental Brain Disorders Study Section', u'Manos, Pat', u'DDNS', u'Drug Discovery for the Nervous System Study Section', u'Custer, Mary', u'DDR', u'Drug Discovery and Mechanisms of Antimicrobial Resistance Study Section', u'Ji, Guangyong', u'DEV1', u'Development - 1 Study Section', u'Arias, Jonathan', u'DEV2', u'Development - 2 Study Section', u'Shayiq, Rass', u'DIRH', u'Dissemination and Implementation Research in Health Study Section', u'Bellinger , Jessica', u'DMP', u'Drug Discovery and Molecular Pharmacology Study Section', u'Smiley, Jeffrey', u'DPVS', u'Diseases and Pathophysiology of the Visual System Study Section', u'Gordiyenko, Nataliya', u'DT', u'Developmental Therapeutics Study Section', u'Gubanich, Sharon', u'EBIT', u'Enabling Bioanalytical and Imaging Technologies Study Section', u'Ryan, Kenneth', u'ESTA', u'Electrical Signaling, Ion Transport, and Arrhythmias Study Section', u'Lim, Chee', u'GCAT', u'Genomics, Computational Biology and Technology Study Section', u'Maskeri, Baishali', u'GDD', u'Gene and Drug Delivery Systems Study Section', u'Rubinstein, Amy', u'GHD', u'Genetics of Health and Disease Study Section', u'Corsaro, Cheryl', u'GMPB', u'Gastrointestinal Mucosal Pathobiology Study Section', u'Zhao,  \\r\\nAiping \\r\\n ', u'GVE', u'Genetic Variation and Evolution Study Section', u'Adkins, Ronald', u'HAI', u'Hypersensitivity, Autoimmune, and Immune-mediated Diseases Study Section', u'Gametchu, Bahiru', u'HBPP', u'Hepatobiliary Pathophysiology Study Section', u'Ivins, Jonathan', u'HDEP', u'Health Disparities and Equity Promotion Study Section', u'Olufokunbi Sam, Delia', u'HIBP', u'Host Interactions with Bacterial Pathogens Study Section', u'El-Zaatari, Fouad', u'HM', u'Hypertension and Microcirculation Study Section', u'Zou, Ai-Ping', u'HSOD', u'Health Services Organization and Delivery Study Section', u'Bronte-Tinkew, Jacinta', u'HT', u'Hemostasis and Thrombosis Study Section', u'Shah, Bukhtiar', u'ICER', u'Integrative and Clinical Endocrinology and Reproduction Study Section', u'Hardy, Dianne', u'ICI', u'Intercellular Interactions Study Section', u'Ip, Wallace', u'ICP1', u'International and Cooperative Projects - 1 Study Section', u'Sigmon, Hilary', u'IHD', u'Immunity and Host Defense Study Section', u'Jakes, Scott', u'III', u'Innate Immunity and Inflammation Study Section', u'McIntyre, Tina', u'INMP', u'Integrative Nutrition and Metabolic Processes Study Section', u'Shelness, Gregory', u'IPOD', u'Integrative Physiology of Obesity and Diabetes Study Section', u'Rojas, Raul', u'IPTA', u'Interventions to Prevent and Treat Addictions Study Section', u'Mintzer, Miriam', u'IRAP', u'Infectious Diseases, Reproductive Health, Asthma and Pulmonary Conditions Study Section', u'Steele, Lisa', u'ISD', u'Instrumentation and Systems Development Study Section', u'Kalasinsky, Kathryn', u'KMBD', u'Kidney Molecular Biology and Genitourinary Organ Development', u'Morris, Ryan', u'KNOD', u'Kidney, Nutrition, Obesity and Diabetes Study Section', u'Chanetsa, Fungai', u'LAM', u'Neurobiology of Learning and Memory Study Section', u'Gaiano, Nicholas', u'LCMI', u'Lung Cellular, Molecular, and Immunobiology Study Section', u'Barnas, George', u'LCOM', u'Language and Communication Study Section', u'Cowles, Wind', u'LIRR', u'Lung Injury, Repair, and Remodeling Study Section', u'Dirami, Ghenima', u'MABS', u'Modeling and Analysis of Biological Systems Study Section', u'Giroux, Craig', u'MBPP', u'Membrane Biology and Protein Processing Study Section', u'Larkin, Janet', u'MCE', u'Molecular and Cellular Endocrinology Study Section', u'Bleasdale, John', u'MCH', u'Molecular and Cellular Hematology Study Section', u'Espinoza, Luis', u'MEDI', u'Medical Imaging Study Section', u'Li, Xiang-Ning', u'MESH', u'Biobehavioral Mechanisms of Emotion, Stress and Health Study Section', u'Champoux, Maribeth', u'MFSR', u'Motor Function, Speech and Rehabilitation Study Section', u'Tian, Biao', u'MGA', u'Molecular Genetics A Study Section', u'Sveda, Michael', u'MGB', u'Molecular Genetics B Study Section', u'Currie, Richard', u'MIM', u'Myocardial Ischemia and Metabolism Study Section', u'Hamann, Kimm', u'MIST', u'Molecular and Integrative Signal Transduction Study Section', u'Mandler, Raya', u'MNG', u'Molecular Neurogenetics Study Section', u'Carstea, Eugene', u'MNPS', u'Molecular Neuropharmacology and Signaling Study Section', u'Lewis, Deborah', u'MONC', u'Molecular Oncogenesis Study Section', u'Sizemore, Nywana', u'MRS', u'Musculoskeletal Rehabilitation Sciences Study Section', u'Nurminskaya, Maria', u'MSFA', u'Macromolecular Structure and Function A Study Section', u'Rosenzweig, Nitsa', u'MSFB', u'Macromolecular Structure and Function B Study Section', u'Wang, C-L Albert', u'MSFC', u'Macromolecular Structure and Function C Study Section', u'Greenberg, William', u'MSFD', u'Macromolecular Structure and Function D Study Section', u'Mack, James', u'MTE', u'Musculoskeletal Tissue Engineering Study Section', u'Moonga, Baljit', u'NAED', u'NeuroAIDS and other End-Organ Diseases Study Section', u'Montalvo, Eduardo', u'NAL', u'Neurotoxicology and Alcohol Study Section', u'Gaiano, Nicholas', u'NAME', u'Neurological, Aging and Musculoskeletal Epidemiology Study Section', u'Friedman, Heidi', u'NANO', u'Nanotechnology Study Section', u'Li, James', u'NCF', u'Neurogenesis and Cell Fate Study Section', u'Fujii, Joanne', u'NCSD', u'Nuclear and Cytoplasmic Structure/Function and Dynamics Study Section', u'Balasundaram, David', u'NDPR', u'Neurodifferentiation, Plasticity, Regeneration and Rhythmicity Study Section', u'Fujii, Joanne', u'NMB', u'Neurobiology of Motivated Behavior Study Section', u'Gaiano, Nicholas', u'NNRS', u'Neuroendocrinology, Neuroimmunology, Rhythms and Sleep Study Section', u'Selmanoff, Michael', u'NOIT', u'Neuroscience and Ophthalmic Imaging Technologies Study Section', u'Bennett, Yvonne', u'NOMD', u'Neural Oxidative Metabolism and Death Study Section', u'Hamelink, Carol', u'NPAS', u'Neural Basis of Psychopathology, Addictions and Sleep Disorders Study Section', u'Cinque, Julius', u'NRCS', u'Nursing and Related Clinical Sciences Study Section', u'Yoon, Sung Sug', u'NTRC', u'Neurotransporters, Receptors, and Calcium Signaling Study Section', u'Jelsema, Carole', u'ODCS', u'Oral, Dental and Craniofacial Sciences Study Section', u'Liu, Yi-Hsin', u'PBKD', u'Pathobiology of Kidney Disease Study Section', u'Sahai, Atul', u'PCMB', u'Prokaryotic Cell and Molecular Biology Study Section', u'Lorang-Leins, Dominique', u'PDRP', u'Psychosocial Development, Risk and Prevention Study Section', u'Riley, Anna', u'PMDA', u'Pathophysiological Basis of Mental Disorders and Addictions Study Section', u'Sokolov, Boris', u'PN', u'Pregnancy and Neonatology Study Section', u'Knecht, Michael', u'PRDP', u'Psychosocial Risk and Disease Prevention Study Section', u'FitzSimmons, Stacey', u'PTHE', u'Pathogenic Eukaryotes Study Section', u'Bounds, Tera', u'RIBT', u'Respiratory Integrative Biology and Translational Research Study Section', u'Nuss, Bradley', u'RPIA', u'Risk, Prevention and Intervention for Addictions Study Section', u'Mintzer, Miriam', u'RTB', u'Radiation Therapeutics and Biology Study Section', u'Hong, Bo', u'SAT', u'Surgery, Anesthesiology and Trauma Study Section', u'Luo, Weihua', u'SBCA', u'Synthetic and Biological Chemistry A Study Section', u'Radtke, Mike', u'SBCB', u'Synthetic and Biological Chemistry B Study Section', u'Eissenstat, Michael', u'SBDD', u'Skeletal Biology Development and Disease Study Section', u'Behera, Aruna', u'SBSR', u'Skeletal Biology Structure and Regeneration Study Section', u'McDonald, Daniel', u'SCS', u'Somatosensory and Chemosensory Systems Study Section', u'Bennett, M', u'SEIR', u'Societal and Ethical Issues in Research Study Section', u'Helmers, Karin', u'SIEE', u'Systemic Injury by Environmental Exposure', u'Greenwel, Patricia', u'SMEP', u'Skeletal Muscle and Exercise Physiology Study Section', u'Ingraham, Richard', u'SMI', u'Sensorimotor Integration Study Section', u'Bishop, John', u'SPC', u'Mechanisms of Sensory, Perceptual, and Cognitive Processes Study Section', u'Thompson, Kirk', u'SPIP', u'Social Psychology, Personality and Interpersonal Processes Study Section', u'Boulay, Marc', u'SSPA', u'Social Sciences and Population Studies A Study Section', u'Ryan, Suzanne', u'SSPB', u'Social Sciences and Population Studies B Study Section', u'Fothergill, Kate', u'SYN', u'Synapses, Cytoskeleton and Trafficking Study Section', u'Piggee, Christine', u'TAG', u'Therapeutic Approaches to Genetic Diseases Study Section', u'Panniers, Richard', u'TCB', u'Tumor Cell Biology Study Section', u'Morrow, Charles', u'TME', u'Tumor Microenvironment Study Section', u'Ng, Angela', u'TPM', u'Tumor Progression and Metastasis Study Section', u'Jakobi, Rolf', u'TTT', u'Transplantation, Tolerance, and Tumor Immunology Study Section', u'Huang, Jin', u'VACC', u'HIV/AIDS Vaccines Study Section', u'Dey, Barna', u'VB', u'Vector Biology Study Section', u'Zheng, Liangbiao', u'VCMB', u'Vascular Cell and Molecular Biology Study Section', u'Pinkus, Larry', u'VIRA', u'Virology - A Study Section', u'Izumi, Kenneth', u'VIRB', u'Virology - B Study Section', u'Pugh, John', u'VMD', u'Vaccines Against Microbial Diseases Study Section', u'Wang, Jian', u'XNDA', u'Xenobiotic and Nutrient Disposition and Action Study Section', u'Garcia, Martha']\n"
     ]
    }
   ],
   "source": [
    "url = 'http://public.csr.nih.gov/StudySections/Standing/Pages/default.aspx'\n",
    "soup=BeautifulSoup(requests.get(url).text,'lxml')\n",
    "#ssname=soup.find_all('tr')\n",
    "ssname=soup.find_all('span',{'class':'hrefText'})\n",
    "\n",
    "\n",
    "ssrawlst=[]\n",
    "for item in ssname:\n",
    "    ssrawlst.append(item.text)\n",
    "    #print item.text\n",
    "print ssrawlst    \n",
    "\n",
    "    \n",
    "    #my_row.append(item.find_all(\"h5\",{\"class\":\"listing-address\"})[0].find('span',{'class':'street-address'},).text)\n",
    "    #print item.text\n",
    "  "
   ]
  },
  {
   "cell_type": "code",
   "execution_count": 95,
   "metadata": {
    "collapsed": false
   },
   "outputs": [
    {
     "name": "stdout",
     "output_type": "stream",
     "text": [
      "[u'ACE', u'ACTS', u'ADDT', u'AICS', u'AIP', u'AMCB', u'ANIE', u'AOIC', u'APDA', u'ARM', u'ASG', u'AUD', u'BACP', u'BBM', u'BCHI', u'BDMA', u'BGES', u'BINP', u'BMBI', u'BMCT', u'BMIO', u'BMIT-A', u'BMIT-B', u'BMRD', u'BNVT', u'BPNS', u'BRLE', u'BSCH', u'BSPH', u'BTSS', u'BVS', u'CADO', u'CAMP', u'CBSS', u'CCHF', u'CDD', u'CDIN', u'CDP', u'CE', u'CG', u'CHSA ', u'CHSB  ', u'CICS', u'CIDO', u'CIHB', u'CII', u'CIMG', u'CLHP', u'CMAD', u'CMBG', u'CMIA', u'CMIB', u'CMIP', u'CMIR', u'CMND', u'CNBT', u'CNN', u'CNNT', u'CONC', u'CP', u'CPDD', u'CRFS', u'CSRS', u'DBD', u'DDNS', u'DDR', u'DEV1', u'DEV2', u'DIRH', u'DMP', u'DPVS', u'DT', u'EBIT', u'ESTA', u'GCAT', u'GDD', u'GHD', u'GMPB', u'GVE', u'HAI', u'HBPP', u'HDEP', u'HIBP', u'HM', u'HSOD', u'HT', u'ICER', u'ICI', u'ICP1', u'IHD', u'III', u'INMP', u'IPOD', u'IPTA', u'IRAP', u'ISD', u'KMBD', u'KNOD', u'LAM', u'LCMI', u'LCOM', u'LIRR', u'MABS', u'MBPP', u'MCE', u'MCH', u'MEDI', u'MESH', u'MFSR', u'MGA', u'MGB', u'MIM', u'MIST', u'MNG', u'MNPS', u'MONC', u'MRS', u'MSFA', u'MSFB', u'MSFC', u'MSFD', u'MTE', u'NAED', u'NAL', u'NAME', u'NANO', u'NCF', u'NCSD', u'NDPR', u'NMB', u'NNRS', u'NOIT', u'NOMD', u'NPAS', u'NRCS', u'NTRC', u'ODCS', u'PBKD', u'PCMB', u'PDRP', u'PMDA', u'PN', u'PRDP', u'PTHE', u'RIBT', u'RPIA', u'RTB', u'SAT', u'SBCA', u'SBCB', u'SBDD', u'SBSR', u'SCS', u'SEIR', u'SIEE', u'SMEP', u'SMI', u'SPC', u'SPIP', u'SSPA', u'SSPB', u'SYN', u'TAG', u'TCB', u'TME', u'TPM', u'TTT', u'VACC', u'VB', u'VCMB', u'VIRA', u'VIRB', u'VMD', u'XNDA']\n"
     ]
    },
    {
     "data": {
      "text/plain": [
       "174"
      ]
     },
     "execution_count": 95,
     "metadata": {},
     "output_type": "execute_result"
    }
   ],
   "source": [
    "sslst=(ssrawlst[::3])\n",
    "print sslst\n",
    "len(sslst)"
   ]
  },
  {
   "cell_type": "code",
   "execution_count": 71,
   "metadata": {
    "collapsed": false
   },
   "outputs": [
    {
     "name": "stdout",
     "output_type": "stream",
     "text": [
      "[0, 1, 2, 3, 4, 5, 6, 7, 8, 9, 10, 11, 12, 13, 14, 15, 16, 17, 18, 19, 20, 21, 22, 23, 24, 25, 26, 27, 28, 29, 30, 31, 32, 33, 34, 35, 36, 37, 38, 39, 40, 41, 42, 43, 44, 45, 46, 47, 48, 49, 50, 51, 52, 53, 54, 55, 56, 57, 58, 59, 60, 61, 62, 63, 64, 65, 66, 67, 68, 69, 70, 71, 72, 73, 74, 75, 76, 77, 78, 79, 80, 81, 82, 83, 84, 85, 86, 87, 88, 89, 90, 91, 92, 93, 94, 95, 96, 97, 98, 99, 100, 101, 102, 103, 104, 105, 106, 107, 108, 109, 110, 111, 112, 113, 114, 115, 116, 117, 118, 119, 120, 121, 122, 123, 124, 125, 126, 127, 128, 129, 130, 131, 132, 133, 134, 135, 136, 137, 138, 139, 140, 141, 142, 143, 144, 145, 146, 147, 148, 149, 150, 151, 152, 153, 154, 155, 156, 157, 158, 159, 160, 161, 162, 163, 164, 165, 166, 167, 168, 169, 170, 171, 172, 173, 174, 175, 176, 177, 178, 179, 180, 181, 182, 183, 184, 185, 186, 187, 188, 189, 190, 191, 192, 193, 194, 195, 196, 197, 198, 199, 200, 201, 202, 203, 204, 205, 206, 207, 208, 209, 210, 211, 212, 213, 214, 215, 216, 217, 218, 219, 220, 221, 222, 223, 224, 225, 226, 227, 228, 229, 230, 231, 232, 233, 234, 235, 236, 237, 238, 239, 240, 241, 242, 243, 244, 245, 246, 247, 248, 249, 250, 251, 252, 253, 254, 255, 256, 257, 258, 259, 260, 261, 262, 263, 264, 265, 266, 267, 268, 269, 270, 271, 272, 273, 274, 275, 276, 277, 278, 279, 280, 281, 282, 283, 284, 285, 286, 287, 288, 289, 290, 291, 292, 293, 294, 295, 296, 297, 298, 299, 300, 301, 302, 303, 304, 305, 306, 307, 308, 309, 310, 311, 312, 313, 314, 315, 316, 317, 318, 319, 320, 321, 322, 323, 324, 325, 326, 327, 328, 329, 330, 331, 332, 333, 334, 335, 336, 337, 338, 339, 340, 341, 342, 343, 344, 345, 346, 347, 348, 349, 350, 351, 352, 353, 354, 355, 356, 357, 358, 359, 360, 361, 362, 363, 364, 365, 366, 367, 368, 369, 370, 371, 372, 373, 374, 375, 376, 377, 378, 379, 380, 381, 382, 383, 384, 385, 386, 387, 388, 389, 390, 391, 392, 393, 394, 395, 396, 397, 398, 399, 400, 401, 402, 403, 404, 405, 406, 407, 408, 409, 410, 411, 412, 413, 414, 415, 416, 417, 418, 419, 420, 421, 422, 423, 424, 425, 426, 427, 428, 429, 430, 431, 432, 433, 434, 435, 436, 437, 438, 439, 440, 441, 442, 443, 444, 445, 446, 447, 448, 449, 450, 451, 452, 453, 454, 455, 456, 457, 458, 459, 460, 461, 462, 463, 464, 465, 466, 467, 468, 469, 470, 471, 472, 473, 474, 475, 476, 477, 478, 479, 480, 481, 482, 483, 484, 485, 486, 487, 488, 489, 490, 491, 492, 493, 494, 495, 496, 497, 498, 499, 500, 501, 502, 503, 504, 505, 506, 507, 508, 509, 510, 511, 512, 513, 514, 515, 516, 517, 518, 519, 520, 521]\n",
      "[0, 3, 6, 9, 12, 15, 18, 21, 24, 27, 30, 33, 36, 39, 42, 45, 48, 51, 54, 57, 60, 63, 66, 69, 72, 75, 78, 81, 84, 87, 90, 93, 96, 99, 102, 105, 108, 111, 114, 117, 120, 123, 126, 129, 132, 135, 138, 141, 144, 147, 150, 153, 156, 159, 162, 165, 168, 171, 174, 177, 180, 183, 186, 189, 192, 195, 198, 201, 204, 207, 210, 213, 216, 219, 222, 225, 228, 231, 234, 237, 240, 243, 246, 249, 252, 255, 258, 261, 264, 267, 270, 273, 276, 279, 282, 285, 288, 291, 294, 297, 300, 303, 306, 309, 312, 315, 318, 321, 324, 327, 330, 333, 336, 339, 342, 345, 348, 351, 354, 357, 360, 363, 366, 369, 372, 375, 378, 381, 384, 387, 390, 393, 396, 399, 402, 405, 408, 411, 414, 417, 420, 423, 426, 429, 432, 435, 438, 441, 444, 447, 450, 453, 456, 459, 462, 465, 468, 471, 474, 477, 480, 483, 486, 489, 492, 495, 498, 501, 504, 507, 510, 513, 516, 519]\n"
     ]
    }
   ],
   "source": [
    "len(list(ssname))\n",
    "sslstNum=range(522)\n",
    "print sslstNum\n",
    "ssNumlst=sslstNum[0::3]\n",
    "print ssNumlst"
   ]
  },
  {
   "cell_type": "code",
   "execution_count": 72,
   "metadata": {
    "collapsed": false
   },
   "outputs": [
    {
     "ename": "SyntaxError",
     "evalue": "invalid syntax (<ipython-input-72-ec77b4c3f4f7>, line 6)",
     "output_type": "error",
     "traceback": [
      "\u001b[1;36m  File \u001b[1;32m\"<ipython-input-72-ec77b4c3f4f7>\"\u001b[1;36m, line \u001b[1;32m6\u001b[0m\n\u001b[1;33m    print sslst\u001b[0m\n\u001b[1;37m        ^\u001b[0m\n\u001b[1;31mSyntaxError\u001b[0m\u001b[1;31m:\u001b[0m invalid syntax\n"
     ]
    }
   ],
   "source": [
    "for i in ssNumlst:\n",
    "    sslst=[]\n",
    "    sslst.append(list(ssname[i])\n",
    "    #sslst.append(list(ssname[(i+3)])[0])\n",
    "\n",
    "print sslst    \n",
    "\n",
    "    "
   ]
  },
  {
   "cell_type": "code",
   "execution_count": 114,
   "metadata": {
    "collapsed": false
   },
   "outputs": [
    {
     "name": "stdout",
     "output_type": "stream",
     "text": [
      "[<div class=\"RosterMemberNames\">\\n<div class=\"RosterMemberName\">Herold, Betsy C, MD (16)<br/>Professor<br/>Department of Pediatrics<br/>Albert Einstein College of Medicine<br/>Bronx, NY 10461<br/><br/></div>\\n</div>, <div class=\"RosterMemberNames\">\\n<div class=\"RosterMemberName\">Anthony, Donald D, MD, PHD (17)<br/>Associate Professor<br/>Division of Infectious Diseases and HIV Medicine<br/>Department of Medicine, Case Western University<br/>Staff Physician<br/>Louis Stokes VA Medical Center<br/>Cleveland, OH 44106<br/><br/></div>\\n<div class=\"RosterMemberName\">Baeten, Jared, MD, PHD (19)<br/>Professor<br/>Department of Global Health<br/>University of Washington<br/>Seattle, WA 98104<br/><br/></div>\\n<div class=\"RosterMemberName\">Cole, Stephen R, PHD (19)<br/>Professor<br/>Department of Epidemiology<br/>Gillings School of Global Public Health<br/>University of North Carolina, Chapel Hill<br/>Chapel Hill, NC 27599<br/><br/></div>\\n<div class=\"RosterMemberName\">Currier, Judith S, MD (18)<br/>Professor<br/>Department of Medicine <br/>University of California, Los Angeles<br/>Los Angeles, CA 90095<br/><br/></div>\\n<div class=\"RosterMemberName\">Daniels, Michael J, SCD (16)<br/>Professor and Chair<br/>Department of Biostatistics and Data Sciences <br/>University of Texas at Austin <br/>Austin, TX 78712<br/><br/></div>\\n<div class=\"RosterMemberName\">DeHovitz, Jack A, MD, MPH (18)<br/>Distinguished Service Professor<br/>Department of Medicine<br/>Downstate Medical Center<br/>State University of New York<br/>Brooklyn, NY 11203<br/><br/></div>\\n<div class=\"RosterMemberName\">Fitzgerald, Daniel W, MD (18)<br/>Associate Professor<br/>Department of Medicine<br/>Weill Medical College <br/>Cornell University <br/>New York , NY 10021<br/><br/></div>\\n<div class=\"RosterMemberName\">Justice, Amy Caroline, MD, PHD (16)<br/>Professor<br/>Department of Internal Medicine<br/>School of Medicine<br/>Yale University<br/>New Haven, CT 06520<br/><br/></div>\\n<div class=\"RosterMemberName\">Kantor, Rami, MD (19)<br/>Associate Professor<br/>Department of Medicine<br/>Brown University<br/>Providence, RI 02906<br/><br/></div>\\n<div class=\"RosterMemberName\">Mehta, Shruti H, PHD, MPH (18)<br/>Professor<br/>Department of Epidemiology<br/>Bloomberg School of Public Health<br/>Johns Hopkins University<br/>Baltimore, MD 21205<br/><br/></div>\\n<div class=\"RosterMemberName\">Ofotokun, Ighovwerha, MD (19)<br/>Associate Professor<br/>Division of Infectious Diseases<br/>Department of Medicine<br/>Emory University<br/>Atlanta, GA 30303<br/><br/></div>\\n<div class=\"RosterMemberName\">Page, Kimberly, PHD, MPH (16)<br/>Professor<br/>Division of Epidemiology, BIOSTATISTICS <br/> and Preventive Medicine<br/>Department of Internal Medicine<br/>University of New Mexico Health Sciences Center<br/>Albuquerque, NM 87131<br/><br/></div>\\n<div class=\"RosterMemberName\">Sekhar, Rajagopal Viswanath, MD (19)<br/>Associate Professor<br/>Division of Diabetes, Endocrinology <br/> and Metabolism<br/>Baylor College of Medicine<br/>Houston, TX 77030<br/><br/></div>\\n<div class=\"RosterMemberName\">Thomas, David L, MD, MPH (18)<br/>Stanhope Bayne Jones Professor of Medicine<br/>Director, Division of Infectious Diseases<br/>School of Medicine<br/>Johns Hopkins University<br/>Baltimore, MD 21231<br/><br/></div>\\n<div class=\"RosterMemberName\">Tien, Phyllis C, MD (16)<br/>Professor<br/>Infectious Diseases Section<br/>Department of Medicine<br/>School of Medicine<br/>University of California, San Francisco<br/>San Francisco, CA 94121<br/><br/></div>\\n<div class=\"RosterMemberName\">Tran, Binh Q, PHD (17)<br/>Associate Professor<br/>Department of Biomedical Engineering<br/>Catholic University of America<br/>Washington, DC 20064<br/><br/></div>\\n</div>]\n"
     ]
    }
   ],
   "source": [
    "print gen_data2"
   ]
  },
  {
   "cell_type": "code",
   "execution_count": 6,
   "metadata": {
    "collapsed": false
   },
   "outputs": [
    {
     "name": "stdout",
     "output_type": "stream",
     "text": [
      "Herold, Betsy C, MD (16)ProfessorDepartment of PediatricsAlbert Einstein College of MedicineBronx, NY 10461\n",
      "\n",
      "\n",
      "Anthony, Donald D, MD, PHD (17)Associate ProfessorDivision of Infectious Diseases and HIV MedicineDepartment of Medicine, Case Western UniversityStaff PhysicianLouis Stokes VA Medical CenterCleveland, OH 44106\n",
      "\n",
      "\n",
      "Baeten, Jared, MD, PHD (19)ProfessorDepartment of Global HealthUniversity of WashingtonSeattle, WA 98104\n",
      "\n",
      "\n",
      "Cole, Stephen R, PHD (19)ProfessorDepartment of EpidemiologyGillings School of Global Public HealthUniversity of North Carolina, Chapel HillChapel Hill, NC 27599\n",
      "\n",
      "\n",
      "Currier, Judith S, MD (18)ProfessorDepartment of Medicine University of California, Los AngelesLos Angeles, CA 90095\n",
      "\n",
      "\n",
      "Daniels, Michael J, SCD (16)Professor and ChairDepartment of Biostatistics and Data Sciences University of Texas at Austin Austin, TX 78712\n",
      "\n",
      "\n",
      "DeHovitz, Jack A, MD, MPH (18)Distinguished Service ProfessorDepartment of MedicineDownstate Medical CenterState University of New YorkBrooklyn, NY 11203\n",
      "\n",
      "\n",
      "Fitzgerald, Daniel W, MD (18)Associate ProfessorDepartment of MedicineWeill Medical College Cornell University New York , NY 10021\n",
      "\n",
      "\n",
      "Justice, Amy Caroline, MD, PHD (16)ProfessorDepartment of Internal MedicineSchool of MedicineYale UniversityNew Haven, CT 06520\n",
      "\n",
      "\n",
      "Kantor, Rami, MD (19)Associate ProfessorDepartment of MedicineBrown UniversityProvidence, RI 02906\n",
      "\n",
      "\n",
      "Mehta, Shruti H, PHD, MPH (18)ProfessorDepartment of EpidemiologyBloomberg School of Public HealthJohns Hopkins UniversityBaltimore, MD 21205\n",
      "\n",
      "\n",
      "Ofotokun, Ighovwerha, MD (19)Associate ProfessorDivision of Infectious DiseasesDepartment of MedicineEmory UniversityAtlanta, GA 30303\n",
      "\n",
      "\n",
      "Page, Kimberly, PHD, MPH (16)ProfessorDivision of Epidemiology, BIOSTATISTICS  and Preventive MedicineDepartment of Internal MedicineUniversity of New Mexico Health Sciences CenterAlbuquerque, NM 87131\n",
      "\n",
      "\n",
      "Sekhar, Rajagopal Viswanath, MD (19)Associate ProfessorDivision of Diabetes, Endocrinology  and MetabolismBaylor College of MedicineHouston, TX 77030\n",
      "\n",
      "\n",
      "Thomas, David L, MD, MPH (18)Stanhope Bayne Jones Professor of MedicineDirector, Division of Infectious DiseasesSchool of MedicineJohns Hopkins UniversityBaltimore, MD 21231\n",
      "\n",
      "\n",
      "Tien, Phyllis C, MD (16)ProfessorInfectious Diseases SectionDepartment of MedicineSchool of MedicineUniversity of California, San FranciscoSan Francisco, CA 94121\n",
      "\n",
      "\n",
      "Tran, Binh Q, PHD (17)Associate ProfessorDepartment of Biomedical EngineeringCatholic University of AmericaWashington, DC 20064\n",
      "\n",
      "\n"
     ]
    }
   ],
   "source": [
    "import re\n",
    "for item in gen_data:\n",
    "    print item.text\n",
    "    print '\\n'"
   ]
  },
  {
   "cell_type": "code",
   "execution_count": 97,
   "metadata": {
    "collapsed": false
   },
   "outputs": [
    {
     "name": "stdout",
     "output_type": "stream",
     "text": [
      "[]\n"
     ]
    }
   ],
   "source": [
    "#r.content\n",
    "g_data=soup.find_all(\"div\",{\"class\":\"RosterMemberName\"})\n",
    "print g_data"
   ]
  },
  {
   "cell_type": "code",
   "execution_count": 128,
   "metadata": {
    "collapsed": false
   },
   "outputs": [
    {
     "name": "stdout",
     "output_type": "stream",
     "text": [
      "11\n",
      "[u'Herold, Betsy C, MD (16)', <br/>, u'Professor', <br/>, u'Department of Pediatrics', <br/>, u'Albert Einstein College of Medicine', <br/>, u'Bronx, NY 10461', <br/>, <br/>]\n",
      "[u'Fitzgerald, Daniel W, MD (18)', <br/>, u'Associate Professor', <br/>, u'Department of Medicine', <br/>, u'Weill Medical College ', <br/>, u'Cornell University ', <br/>, u'New York , NY 10021', <br/>, <br/>]\n",
      "\n",
      "\n",
      "<div class=\"RosterMemberName\">Herold, Betsy C, MD (16)<br/>Professor<br/>Department of Pediatrics<br/>Albert Einstein College of Medicine<br/>Bronx, NY 10461<br/><br/></div>\n",
      "Professor\n",
      "Department of Pediatrics\n",
      "Albert Einstein College of Medicine\n",
      "Bronx, NY 10461\n",
      "[<div class=\"RosterMemberName\">Herold, Betsy C, MD (16)<br/>Professor<br/>Department of Pediatrics<br/>Albert Einstein College of Medicine<br/>Bronx, NY 10461<br/><br/></div>, <div class=\"RosterMemberName\">Anthony, Donald D, MD, PHD (17)<br/>Associate Professor<br/>Division of Infectious Diseases and HIV Medicine<br/>Department of Medicine, Case Western University<br/>Staff Physician<br/>Louis Stokes VA Medical Center<br/>Cleveland, OH 44106<br/><br/></div>, <div class=\"RosterMemberName\">Baeten, Jared, MD, PHD (19)<br/>Professor<br/>Department of Global Health<br/>University of Washington<br/>Seattle, WA 98104<br/><br/></div>, <div class=\"RosterMemberName\">Cole, Stephen R, PHD (19)<br/>Professor<br/>Department of Epidemiology<br/>Gillings School of Global Public Health<br/>University of North Carolina, Chapel Hill<br/>Chapel Hill, NC 27599<br/><br/></div>, <div class=\"RosterMemberName\">Currier, Judith S, MD (18)<br/>Professor<br/>Department of Medicine <br/>University of California, Los Angeles<br/>Los Angeles, CA 90095<br/><br/></div>, <div class=\"RosterMemberName\">Daniels, Michael J, SCD (16)<br/>Professor and Chair<br/>Department of Biostatistics and Data Sciences <br/>University of Texas at Austin <br/>Austin, TX 78712<br/><br/></div>, <div class=\"RosterMemberName\">DeHovitz, Jack A, MD, MPH (18)<br/>Distinguished Service Professor<br/>Department of Medicine<br/>Downstate Medical Center<br/>State University of New York<br/>Brooklyn, NY 11203<br/><br/></div>, <div class=\"RosterMemberName\">Fitzgerald, Daniel W, MD (18)<br/>Associate Professor<br/>Department of Medicine<br/>Weill Medical College <br/>Cornell University <br/>New York , NY 10021<br/><br/></div>, <div class=\"RosterMemberName\">Justice, Amy Caroline, MD, PHD (16)<br/>Professor<br/>Department of Internal Medicine<br/>School of Medicine<br/>Yale University<br/>New Haven, CT 06520<br/><br/></div>, <div class=\"RosterMemberName\">Kantor, Rami, MD (19)<br/>Associate Professor<br/>Department of Medicine<br/>Brown University<br/>Providence, RI 02906<br/><br/></div>, <div class=\"RosterMemberName\">Mehta, Shruti H, PHD, MPH (18)<br/>Professor<br/>Department of Epidemiology<br/>Bloomberg School of Public Health<br/>Johns Hopkins University<br/>Baltimore, MD 21205<br/><br/></div>, <div class=\"RosterMemberName\">Ofotokun, Ighovwerha, MD (19)<br/>Associate Professor<br/>Division of Infectious Diseases<br/>Department of Medicine<br/>Emory University<br/>Atlanta, GA 30303<br/><br/></div>, <div class=\"RosterMemberName\">Page, Kimberly, PHD, MPH (16)<br/>Professor<br/>Division of Epidemiology, BIOSTATISTICS <br/> and Preventive Medicine<br/>Department of Internal Medicine<br/>University of New Mexico Health Sciences Center<br/>Albuquerque, NM 87131<br/><br/></div>, <div class=\"RosterMemberName\">Sekhar, Rajagopal Viswanath, MD (19)<br/>Associate Professor<br/>Division of Diabetes, Endocrinology <br/> and Metabolism<br/>Baylor College of Medicine<br/>Houston, TX 77030<br/><br/></div>, <div class=\"RosterMemberName\">Thomas, David L, MD, MPH (18)<br/>Stanhope Bayne Jones Professor of Medicine<br/>Director, Division of Infectious Diseases<br/>School of Medicine<br/>Johns Hopkins University<br/>Baltimore, MD 21231<br/><br/></div>, <div class=\"RosterMemberName\">Tien, Phyllis C, MD (16)<br/>Professor<br/>Infectious Diseases Section<br/>Department of Medicine<br/>School of Medicine<br/>University of California, San Francisco<br/>San Francisco, CA 94121<br/><br/></div>, <div class=\"RosterMemberName\">Tran, Binh Q, PHD (17)<br/>Associate Professor<br/>Department of Biomedical Engineering<br/>Catholic University of America<br/>Washington, DC 20064<br/><br/></div>]\n"
     ]
    }
   ],
   "source": [
    "print len(list(g_data[0]))\n",
    "print list(g_data[0])\n",
    "print list(g_data[7])\n",
    "print '\\n'\n",
    "print list(g_data)[0]    #name\n",
    "print list(g_data[0])[2]    #title \n",
    "print list(g_data[0])[4]    #department\n",
    "print list(g_data[0])[6]    #institute\n",
    "print list(g_data[0])[8]    #location \n",
    "\n",
    "print list(g_data)\n"
   ]
  },
  {
   "cell_type": "code",
   "execution_count": 178,
   "metadata": {
    "collapsed": false
   },
   "outputs": [
    {
     "data": {
      "text/plain": [
       "[u'16']"
      ]
     },
     "execution_count": 178,
     "metadata": {},
     "output_type": "execute_result"
    }
   ],
   "source": [
    "list(g_data[3])[8]+', '+list(g_data[3])[-3]"
   ]
  },
  {
   "cell_type": "code",
   "execution_count": 180,
   "metadata": {
    "collapsed": false
   },
   "outputs": [
    {
     "data": {
      "text/plain": [
       "[u'10461']"
      ]
     },
     "execution_count": 180,
     "metadata": {},
     "output_type": "execute_result"
    }
   ],
   "source": [
    "re.findall('[0-9]+', list(g_data[0])[0])\n",
    "re.findall('[0-9]+', list(g_data[0])[-3])"
   ]
  },
  {
   "cell_type": "code",
   "execution_count": 96,
   "metadata": {
    "collapsed": false
   },
   "outputs": [
    {
     "ename": "NameError",
     "evalue": "name 'g_data' is not defined",
     "output_type": "error",
     "traceback": [
      "\u001b[1;31m---------------------------------------------------------------------------\u001b[0m",
      "\u001b[1;31mNameError\u001b[0m                                 Traceback (most recent call last)",
      "\u001b[1;32m<ipython-input-96-a531bad4c9da>\u001b[0m in \u001b[0;36m<module>\u001b[1;34m()\u001b[0m\n\u001b[0;32m      2\u001b[0m \u001b[1;31m#glst=list(g_data)\u001b[0m\u001b[1;33m\u001b[0m\u001b[1;33m\u001b[0m\u001b[0m\n\u001b[0;32m      3\u001b[0m \u001b[1;33m\u001b[0m\u001b[0m\n\u001b[1;32m----> 4\u001b[1;33m \u001b[1;32mfor\u001b[0m \u001b[0mi\u001b[0m \u001b[1;32min\u001b[0m \u001b[0mrange\u001b[0m\u001b[1;33m(\u001b[0m\u001b[0mlen\u001b[0m\u001b[1;33m(\u001b[0m\u001b[0mlist\u001b[0m\u001b[1;33m(\u001b[0m\u001b[0mg_data\u001b[0m\u001b[1;33m)\u001b[0m\u001b[1;33m)\u001b[0m\u001b[1;33m)\u001b[0m\u001b[1;33m:\u001b[0m\u001b[1;33m\u001b[0m\u001b[0m\n\u001b[0m\u001b[0;32m      5\u001b[0m     \u001b[0mmy_row\u001b[0m\u001b[1;33m=\u001b[0m\u001b[1;33m[\u001b[0m\u001b[1;33m]\u001b[0m\u001b[1;33m\u001b[0m\u001b[0m\n\u001b[0;32m      6\u001b[0m     \u001b[0mmy_row\u001b[0m\u001b[1;33m.\u001b[0m\u001b[0mappend\u001b[0m\u001b[1;33m(\u001b[0m\u001b[0mlist\u001b[0m\u001b[1;33m(\u001b[0m\u001b[0mg_data\u001b[0m\u001b[1;33m[\u001b[0m\u001b[0mi\u001b[0m\u001b[1;33m]\u001b[0m\u001b[1;33m)\u001b[0m\u001b[1;33m[\u001b[0m\u001b[1;36m0\u001b[0m\u001b[1;33m]\u001b[0m\u001b[1;33m)\u001b[0m        \u001b[1;31m# name\u001b[0m\u001b[1;33m\u001b[0m\u001b[0m\n",
      "\u001b[1;31mNameError\u001b[0m: name 'g_data' is not defined"
     ]
    }
   ],
   "source": [
    "my_df=[]\n",
    "#glst=list(g_data)\n",
    "\n",
    "for i in range(len(list(g_data))):\n",
    "    my_row=[]\n",
    "    my_row.append(list(g_data[i])[0])        # name\n",
    "    my_row.append(list(g_data[i])[2])        # title\n",
    "    my_row.append(list(g_data[i])[4])        # department\n",
    "    my_row.append(list(g_data[i])[6])        # institute\n",
    "    \n",
    "    #if list(g_data[i])[8] is numeric \n",
    "        \n",
    "    \n",
    "    my_row.append(list(g_data[i])[8])        # sencondary institute\n",
    "    my_row.append(list(g_data[i])[-3])       # location \n",
    "    #my_row.append(item.find_all(\"div\",{\"class\":\"RosterMemberName\"})[0][0]\n",
    "\n",
    "    my_df.append(my_row)\n",
    "\n",
    "my_df2=pd.DataFrame(my_df, columns=['Name','Title','Department','Institute','Secondary Institute','Location'])\n",
    "\n",
    "\n",
    "my_df2    "
   ]
  },
  {
   "cell_type": "code",
   "execution_count": 99,
   "metadata": {
    "collapsed": false
   },
   "outputs": [],
   "source": [
    "import time\n",
    "\n",
    "#sslst for study section list \n",
    "\n",
    "my_df=[]\n",
    "\n",
    "for ss in sslst:\n",
    "        \n",
    "            url = 'http://internet.csr.nih.gov/Rosters/MemberRoster.aspx?s='+str(ss)\n",
    "            soup=BeautifulSoup(requests.get(url).text,'lxml')\n",
    "            gen_data=soup.find_all(\"div\",{\"class\":\"RosterMemberName\"})\n",
    "            gen_lst=list(gen_data)\n",
    "\n",
    "            for i in range(len(list(gen_data))):\n",
    "                my_row=[]\n",
    "                my_row.append(list(gen_data[i])[0])        # name\n",
    "                my_row.append(list(gen_data[i])[2])        # title\n",
    "                my_row.append(list(gen_data[i])[4])        # department\n",
    "                my_row.append(list(gen_data[i])[6])        # institute\n",
    "\n",
    "                #if list(g_data[i])[8] is numeric \n",
    "\n",
    "\n",
    "                my_row.append(list(gen_data[i])[8])        # sencondary institute\n",
    "                my_row.append(list(gen_data[i])[-3])       # location \n",
    "                my_row.append(str(ss))                     # Study Section \n",
    "                \n",
    "                #my_row.append(item.find_all(\"div\",{\"class\":\"RosterMemberName\"})[0][0]\n",
    "\n",
    "                my_df.append(my_row)\n",
    "                \n",
    "        \n",
    "            time.sleep(10)\n",
    "        \n",
    "        \n",
    "    \n",
    "my_df2=pd.DataFrame(my_df, columns=['Name','Title','Department','Institute','Secondary Institute','Location','Study Section'])  \n",
    "my_df2.to_csv('NIH_Study_Section_MembershipRoster.csv',encoding='utf-8')"
   ]
  },
  {
   "cell_type": "code",
   "execution_count": 102,
   "metadata": {
    "collapsed": false
   },
   "outputs": [
    {
     "name": "stdout",
     "output_type": "stream",
     "text": [
      "(3098, 7)\n"
     ]
    }
   ],
   "source": [
    "my_df2\n",
    "print my_df2.shape"
   ]
  },
  {
   "cell_type": "code",
   "execution_count": 54,
   "metadata": {
    "collapsed": false
   },
   "outputs": [
    {
     "name": "stdout",
     "output_type": "stream",
     "text": [
      "Herold, Betsy C, MD (16)ProfessorDepartment of PediatricsAlbert Einstein College of MedicineBronx, NY 10461\n",
      "Anthony, Donald D, MD, PHD (17)Associate ProfessorDivision of Infectious Diseases and HIV MedicineDepartment of Medicine, Case Western UniversityStaff PhysicianLouis Stokes VA Medical CenterCleveland, OH 44106\n",
      "Baeten, Jared, MD, PHD (19)ProfessorDepartment of Global HealthUniversity of WashingtonSeattle, WA 98104\n",
      "Cole, Stephen R, PHD (19)ProfessorDepartment of EpidemiologyGillings School of Global Public HealthUniversity of North Carolina, Chapel HillChapel Hill, NC 27599\n",
      "Currier, Judith S, MD (18)ProfessorDepartment of Medicine University of California, Los AngelesLos Angeles, CA 90095\n",
      "Daniels, Michael J, SCD (16)Professor and ChairDepartment of Biostatistics and Data Sciences University of Texas at Austin Austin, TX 78712\n",
      "DeHovitz, Jack A, MD, MPH (18)Distinguished Service ProfessorDepartment of MedicineDownstate Medical CenterState University of New YorkBrooklyn, NY 11203\n",
      "Fitzgerald, Daniel W, MD (18)Associate ProfessorDepartment of MedicineWeill Medical College Cornell University New York , NY 10021\n",
      "Justice, Amy Caroline, MD, PHD (16)ProfessorDepartment of Internal MedicineSchool of MedicineYale UniversityNew Haven, CT 06520\n",
      "Kantor, Rami, MD (19)Associate ProfessorDepartment of MedicineBrown UniversityProvidence, RI 02906\n",
      "Mehta, Shruti H, PHD, MPH (18)ProfessorDepartment of EpidemiologyBloomberg School of Public HealthJohns Hopkins UniversityBaltimore, MD 21205\n",
      "Ofotokun, Ighovwerha, MD (19)Associate ProfessorDivision of Infectious DiseasesDepartment of MedicineEmory UniversityAtlanta, GA 30303\n",
      "Page, Kimberly, PHD, MPH (16)ProfessorDivision of Epidemiology, BIOSTATISTICS  and Preventive MedicineDepartment of Internal MedicineUniversity of New Mexico Health Sciences CenterAlbuquerque, NM 87131\n",
      "Sekhar, Rajagopal Viswanath, MD (19)Associate ProfessorDivision of Diabetes, Endocrinology  and MetabolismBaylor College of MedicineHouston, TX 77030\n",
      "Thomas, David L, MD, MPH (18)Stanhope Bayne Jones Professor of MedicineDirector, Division of Infectious DiseasesSchool of MedicineJohns Hopkins UniversityBaltimore, MD 21231\n",
      "Tien, Phyllis C, MD (16)ProfessorInfectious Diseases SectionDepartment of MedicineSchool of MedicineUniversity of California, San FranciscoSan Francisco, CA 94121\n",
      "Tran, Binh Q, PHD (17)Associate ProfessorDepartment of Biomedical EngineeringCatholic University of AmericaWashington, DC 20064\n"
     ]
    }
   ],
   "source": [
    "for item in g_data:\n",
    "    \"<br>%s<br>\""
   ]
  },
  {
   "cell_type": "code",
   "execution_count": null,
   "metadata": {
    "collapsed": true
   },
   "outputs": [],
   "source": []
  }
 ],
 "metadata": {
  "kernelspec": {
   "display_name": "Python 2",
   "language": "python",
   "name": "python2"
  },
  "language_info": {
   "codemirror_mode": {
    "name": "ipython",
    "version": 2
   },
   "file_extension": ".py",
   "mimetype": "text/x-python",
   "name": "python",
   "nbconvert_exporter": "python",
   "pygments_lexer": "ipython2",
   "version": "2.7.11"
  }
 },
 "nbformat": 4,
 "nbformat_minor": 0
}
