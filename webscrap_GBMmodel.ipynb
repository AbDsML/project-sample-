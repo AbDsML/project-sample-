{
 "cells": [
  {
   "cell_type": "code",
   "execution_count": 126,
   "metadata": {
    "collapsed": false
   },
   "outputs": [],
   "source": [
    "import numpy as np\n",
    "import pandas as pd\n",
    "import matplotlib as plt\n",
    "%matplotlib inline\n",
    "import pickle\n",
    "import os\n",
    "import sklearn.tree \n",
    "from sklearn.tree import DecisionTreeClassifier\n",
    "import h2o\n",
    "import random"
   ]
  },
  {
   "cell_type": "code",
   "execution_count": 1,
   "metadata": {
    "collapsed": true
   },
   "outputs": [],
   "source": [
    "from sklearn import metrics"
   ]
  },
  {
   "cell_type": "code",
   "execution_count": 176,
   "metadata": {
    "collapsed": false
   },
   "outputs": [
    {
     "data": {
      "text/html": [
       "<div style=\"overflow:auto\"><table style=\"width:50%\"><tr><td>H2O cluster uptime: </td>\n",
       "<td>20 hours 48 minutes 52 seconds 875 milliseconds </td></tr>\n",
       "<tr><td>H2O cluster version: </td>\n",
       "<td>3.2.0.9</td></tr>\n",
       "<tr><td>H2O cluster name: </td>\n",
       "<td>me</td></tr>\n",
       "<tr><td>H2O cluster total nodes: </td>\n",
       "<td>1</td></tr>\n",
       "<tr><td>H2O cluster total memory: </td>\n",
       "<td>1.98 GB</td></tr>\n",
       "<tr><td>H2O cluster total cores: </td>\n",
       "<td>4</td></tr>\n",
       "<tr><td>H2O cluster allowed cores: </td>\n",
       "<td>4</td></tr>\n",
       "<tr><td>H2O cluster healthy: </td>\n",
       "<td>True</td></tr>\n",
       "<tr><td>H2O Connection ip: </td>\n",
       "<td>127.0.0.1</td></tr>\n",
       "<tr><td>H2O Connection port: </td>\n",
       "<td>54321</td></tr></table></div>"
      ],
      "text/plain": [
       "--------------------------  -----------------------------------------------\n",
       "H2O cluster uptime:         20 hours 48 minutes 52 seconds 875 milliseconds\n",
       "H2O cluster version:        3.2.0.9\n",
       "H2O cluster name:           me\n",
       "H2O cluster total nodes:    1\n",
       "H2O cluster total memory:   1.98 GB\n",
       "H2O cluster total cores:    4\n",
       "H2O cluster allowed cores:  4\n",
       "H2O cluster healthy:        True\n",
       "H2O Connection ip:          127.0.0.1\n",
       "H2O Connection port:        54321\n",
       "--------------------------  -----------------------------------------------"
      ]
     },
     "metadata": {},
     "output_type": "display_data"
    }
   ],
   "source": [
    "h2o.init()"
   ]
  },
  {
   "cell_type": "code",
   "execution_count": 8,
   "metadata": {
    "collapsed": true
   },
   "outputs": [],
   "source": [
    "#define file path\n",
    "file_path='e:/nycds/webscraping project/price_na_drp.csv'"
   ]
  },
  {
   "cell_type": "code",
   "execution_count": 11,
   "metadata": {
    "collapsed": false
   },
   "outputs": [
    {
     "name": "stdout",
     "output_type": "stream",
     "text": [
      "\n",
      "Parse Progress: [##################################################] 100%\n",
      "Imported e:/nycds/webscraping project/price_na_drp.csv. Parsed 2,844 rows and 12 cols\n"
     ]
    }
   ],
   "source": [
    "#load data by using dictionary for params setting \n",
    "params_load_data={'path':file_path, \n",
    "                  'destination_frame':'prcnadrp','header':1,'sep':','}\n",
    "prcnadrp=h2o.import_file(**params_load_data)\n"
   ]
  },
  {
   "cell_type": "code",
   "execution_count": 10,
   "metadata": {
    "collapsed": false
   },
   "outputs": [
    {
     "name": "stdout",
     "output_type": "stream",
     "text": [
      "Records number in this data set is :2844\n"
     ]
    }
   ],
   "source": [
    "#count number of records\n",
    "num_records=data_hex.nrow\n",
    "\n",
    "#print the number with comment \n",
    "print 'Records number in this data set is :'+str(num_records)"
   ]
  },
  {
   "cell_type": "code",
   "execution_count": 12,
   "metadata": {
    "collapsed": false
   },
   "outputs": [
    {
     "name": "stdout",
     "output_type": "stream",
     "text": [
      "H2OFrame with 2844 rows and 12 columns: \n",
      "   C1  Unnamed: 0               street address        city state  zip code  \\\n",
      "0   1           1    2907 East South Boulevard  Montgomery    AL     36116   \n",
      "1   2           2          2150 Douglas Avenue     Brewton    AL     36426   \n",
      "2   3           3                 254 W Bypass   Andalusia    AL     36420   \n",
      "3   4           4  2608 West Meighan Boulevard     Gadsden    AL     35904   \n",
      "4   5           5  2490 Schillinger Road South      Mobile    AL     36695   \n",
      "5   8           8            5651 Endeavor Way      Tanner    AL     35671   \n",
      "6   9           9            5860 Endeavor Way      Tanner    AL     35671   \n",
      "7  10          10        1524 East 10th Street    Anniston    AL     36207   \n",
      "8  11          11          5510 McFarland Blvd   Northport    AL     35476   \n",
      "9  12          12            5950 Endeavor Way      Tanner    AL     35671   \n",
      "\n",
      "  listing price                                      property name  \\\n",
      "0    $2,945,000  One Center - $30MM Anchors Underway. 20% Final...   \n",
      "1    $1,577,901    Taco Bell - New Construction 24 Years Remaining   \n",
      "2    $1,933,996    Taco Bell - New Construction 24 Years Remaining   \n",
      "3    $4,406,000          CVS/pharmacy | 18+ Yr Lease | BBB+ Credit   \n",
      "4    $5,085,714                 Walgreens | Mobile, AL | 7.00% CAP   \n",
      "5    $5,216,200                         AL-150 Huntsville, Alabama   \n",
      "6    $5,749,800                    AL-130 SouthPoint Business Park   \n",
      "7    $2,690,000         Lagarde Apartments 10% down Bank Financing   \n",
      "8    $3,950,000                          Big Lots / Tractor Supply   \n",
      "9    $7,358,400       SouthPoint Business Park, Alabama, AL-136-05   \n",
      "\n",
      "     property type  size sf  property class  cap rate  \n",
      "0      Office Bldg  256,333             NaN       NaN  \n",
      "1       Restaurant    2,403             NaN       NaN  \n",
      "2       Restaurant    2,600             NaN       NaN  \n",
      "3    Free Std Bldg   11,945             NaN    0.0610  \n",
      "4    Free Std Bldg   15,120             NaN    0.0700  \n",
      "5  Distr Warehouse  206,160             NaN       NaN  \n",
      "6  Indust Biz Park  108,960             NaN       NaN  \n",
      "7    Mid High Rise   53,000              67    0.1000  \n",
      "8        Strip Ctr   58,035             NaN    0.0715  \n",
      "9  Distr Warehouse  152,160             NaN       NaN  \n"
     ]
    },
    {
     "data": {
      "text/plain": [
       "<bound method H2OFrame.head of >"
      ]
     },
     "execution_count": 12,
     "metadata": {},
     "output_type": "execute_result"
    }
   ],
   "source": [
    "prcnadrp.head"
   ]
  },
  {
   "cell_type": "code",
   "execution_count": 17,
   "metadata": {
    "collapsed": false
   },
   "outputs": [
    {
     "data": {
      "text/plain": [
       "[u'',\n",
       " u'Unnamed: 0',\n",
       " u'street address',\n",
       " u'city',\n",
       " u'state',\n",
       " u'zip code',\n",
       " u'listing price',\n",
       " u'property name',\n",
       " u'property type',\n",
       " u'size sf',\n",
       " u'property class',\n",
       " u'cap rate']"
      ]
     },
     "execution_count": 17,
     "metadata": {},
     "output_type": "execute_result"
    }
   ],
   "source": [
    "prcnadrp.names"
   ]
  },
  {
   "cell_type": "code",
   "execution_count": 19,
   "metadata": {
    "collapsed": false
   },
   "outputs": [
    {
     "name": "stdout",
     "output_type": "stream",
     "text": [
      "H2OFrame with 2844 rows and 11 columns: \n",
      "   Unnamed: 0               street address        city state  zip code  \\\n",
      "0           1    2907 East South Boulevard  Montgomery    AL     36116   \n",
      "1           2          2150 Douglas Avenue     Brewton    AL     36426   \n",
      "2           3                 254 W Bypass   Andalusia    AL     36420   \n",
      "3           4  2608 West Meighan Boulevard     Gadsden    AL     35904   \n",
      "4           5  2490 Schillinger Road South      Mobile    AL     36695   \n",
      "5           8            5651 Endeavor Way      Tanner    AL     35671   \n",
      "6           9            5860 Endeavor Way      Tanner    AL     35671   \n",
      "7          10        1524 East 10th Street    Anniston    AL     36207   \n",
      "8          11          5510 McFarland Blvd   Northport    AL     35476   \n",
      "9          12            5950 Endeavor Way      Tanner    AL     35671   \n",
      "\n",
      "  listing price                                      property name  \\\n",
      "0    $2,945,000  One Center - $30MM Anchors Underway. 20% Final...   \n",
      "1    $1,577,901    Taco Bell - New Construction 24 Years Remaining   \n",
      "2    $1,933,996    Taco Bell - New Construction 24 Years Remaining   \n",
      "3    $4,406,000          CVS/pharmacy | 18+ Yr Lease | BBB+ Credit   \n",
      "4    $5,085,714                 Walgreens | Mobile, AL | 7.00% CAP   \n",
      "5    $5,216,200                         AL-150 Huntsville, Alabama   \n",
      "6    $5,749,800                    AL-130 SouthPoint Business Park   \n",
      "7    $2,690,000         Lagarde Apartments 10% down Bank Financing   \n",
      "8    $3,950,000                          Big Lots / Tractor Supply   \n",
      "9    $7,358,400       SouthPoint Business Park, Alabama, AL-136-05   \n",
      "\n",
      "     property type  size sf  property class  cap rate  \n",
      "0      Office Bldg  256,333             NaN       NaN  \n",
      "1       Restaurant    2,403             NaN       NaN  \n",
      "2       Restaurant    2,600             NaN       NaN  \n",
      "3    Free Std Bldg   11,945             NaN    0.0610  \n",
      "4    Free Std Bldg   15,120             NaN    0.0700  \n",
      "5  Distr Warehouse  206,160             NaN       NaN  \n",
      "6  Indust Biz Park  108,960             NaN       NaN  \n",
      "7    Mid High Rise   53,000              67    0.1000  \n",
      "8        Strip Ctr   58,035             NaN    0.0715  \n",
      "9  Distr Warehouse  152,160             NaN       NaN  \n"
     ]
    },
    {
     "data": {
      "text/plain": []
     },
     "execution_count": 19,
     "metadata": {},
     "output_type": "execute_result"
    }
   ],
   "source": [
    "prcnadrp=prcnadrp.drop('')"
   ]
  },
  {
   "cell_type": "code",
   "execution_count": 21,
   "metadata": {
    "collapsed": false
   },
   "outputs": [],
   "source": [
    "prcnadrp=prcnadrp.drop('Unnamed: 0')"
   ]
  },
  {
   "cell_type": "code",
   "execution_count": 24,
   "metadata": {
    "collapsed": true
   },
   "outputs": [],
   "source": [
    "prcnadrp=prcnadrp.drop('C1')"
   ]
  },
  {
   "cell_type": "code",
   "execution_count": 101,
   "metadata": {
    "collapsed": true
   },
   "outputs": [],
   "source": [
    "prcnadrp=prcnadrp.drop('target')"
   ]
  },
  {
   "cell_type": "code",
   "execution_count": 26,
   "metadata": {
    "collapsed": false
   },
   "outputs": [
    {
     "name": "stdout",
     "output_type": "stream",
     "text": [
      "H2OFrame with 2844 rows and 10 columns: \n",
      "                street address        city state  zip code listing price  \\\n",
      "0    2907 East South Boulevard  Montgomery    AL     36116    $2,945,000   \n",
      "1          2150 Douglas Avenue     Brewton    AL     36426    $1,577,901   \n",
      "2                 254 W Bypass   Andalusia    AL     36420    $1,933,996   \n",
      "3  2608 West Meighan Boulevard     Gadsden    AL     35904    $4,406,000   \n",
      "4  2490 Schillinger Road South      Mobile    AL     36695    $5,085,714   \n",
      "5            5651 Endeavor Way      Tanner    AL     35671    $5,216,200   \n",
      "6            5860 Endeavor Way      Tanner    AL     35671    $5,749,800   \n",
      "7        1524 East 10th Street    Anniston    AL     36207    $2,690,000   \n",
      "8          5510 McFarland Blvd   Northport    AL     35476    $3,950,000   \n",
      "9            5950 Endeavor Way      Tanner    AL     35671    $7,358,400   \n",
      "\n",
      "                                       property name    property type  \\\n",
      "0  One Center - $30MM Anchors Underway. 20% Final...      Office Bldg   \n",
      "1    Taco Bell - New Construction 24 Years Remaining       Restaurant   \n",
      "2    Taco Bell - New Construction 24 Years Remaining       Restaurant   \n",
      "3          CVS/pharmacy | 18+ Yr Lease | BBB+ Credit    Free Std Bldg   \n",
      "4                 Walgreens | Mobile, AL | 7.00% CAP    Free Std Bldg   \n",
      "5                         AL-150 Huntsville, Alabama  Distr Warehouse   \n",
      "6                    AL-130 SouthPoint Business Park  Indust Biz Park   \n",
      "7         Lagarde Apartments 10% down Bank Financing    Mid High Rise   \n",
      "8                          Big Lots / Tractor Supply        Strip Ctr   \n",
      "9       SouthPoint Business Park, Alabama, AL-136-05  Distr Warehouse   \n",
      "\n",
      "   size sf  property class  cap rate  \n",
      "0  256,333             NaN       NaN  \n",
      "1    2,403             NaN       NaN  \n",
      "2    2,600             NaN       NaN  \n",
      "3   11,945             NaN    0.0610  \n",
      "4   15,120             NaN    0.0700  \n",
      "5  206,160             NaN       NaN  \n",
      "6  108,960             NaN       NaN  \n",
      "7   53,000              67    0.1000  \n",
      "8   58,035             NaN    0.0715  \n",
      "9  152,160             NaN       NaN  \n"
     ]
    },
    {
     "data": {
      "text/plain": [
       "<bound method H2OFrame.head of >"
      ]
     },
     "execution_count": 26,
     "metadata": {},
     "output_type": "execute_result"
    }
   ],
   "source": [
    "prcnadrp.head"
   ]
  },
  {
   "cell_type": "code",
   "execution_count": 102,
   "metadata": {
    "collapsed": true
   },
   "outputs": [],
   "source": [
    "#assign response and features variables \n",
    "#response variable \n",
    "response=unicode('property type')\n",
    "\n",
    "#column names \n",
    "features=prcnadrp.names"
   ]
  },
  {
   "cell_type": "code",
   "execution_count": 103,
   "metadata": {
    "collapsed": true
   },
   "outputs": [],
   "source": [
    "#find the index of response variable \n",
    "for idx, feature in enumerate(features):\n",
    "    if feature == response:\n",
    "        idx_response=idx\n"
   ]
  },
  {
   "cell_type": "code",
   "execution_count": 104,
   "metadata": {
    "collapsed": true
   },
   "outputs": [],
   "source": [
    "#count number of features \n",
    "num_features_all=len(features)"
   ]
  },
  {
   "cell_type": "code",
   "execution_count": 105,
   "metadata": {
    "collapsed": false
   },
   "outputs": [
    {
     "name": "stdout",
     "output_type": "stream",
     "text": [
      "Number of features BEFORE removing response is :10\n",
      "Number of features After removing response is : 9\n"
     ]
    }
   ],
   "source": [
    "#remove response \n",
    "features.remove(response)\n",
    "\n",
    "#count number of resulting features\n",
    "num_features=len(features)\n",
    "\n",
    "#print with description \n",
    "print 'Number of features BEFORE removing response is :'+str(num_features_all)\n",
    "print 'Number of features After removing response is : '+str(num_features)"
   ]
  },
  {
   "cell_type": "code",
   "execution_count": 106,
   "metadata": {
    "collapsed": false
   },
   "outputs": [
    {
     "name": "stdout",
     "output_type": "stream",
     "text": [
      "H2OFrame with 10 rows and 1 columns: \n",
      "        rnd\n",
      "0  0.732572\n",
      "1  0.651357\n",
      "2  0.216731\n",
      "3  0.588950\n",
      "4  0.083199\n",
      "5  0.299730\n",
      "6  0.821594\n",
      "7  0.918547\n",
      "8  0.727564\n",
      "9  0.358803\n"
     ]
    },
    {
     "data": {
      "text/plain": []
     },
     "execution_count": 106,
     "metadata": {},
     "output_type": "execute_result"
    }
   ],
   "source": [
    "#splitting the data set\n",
    "# creating a vector with uniformly distributed numbers between 0 and 1\n",
    "random_idx=prcnadrp[idx_response].runif(seed=1234)\n",
    "random_idx.head(10)"
   ]
  },
  {
   "cell_type": "code",
   "execution_count": 107,
   "metadata": {
    "collapsed": false
   },
   "outputs": [
    {
     "data": {
      "text/plain": [
       "2844"
      ]
     },
     "execution_count": 107,
     "metadata": {},
     "output_type": "execute_result"
    }
   ],
   "source": [
    "len(random_idx)"
   ]
  },
  {
   "cell_type": "code",
   "execution_count": 95,
   "metadata": {
    "collapsed": false
   },
   "outputs": [
    {
     "name": "stdout",
     "output_type": "stream",
     "text": [
      "H2OFrame with 59 rows and 1 columns: \n",
      "                    C1\n",
      "0             Agri Biz\n",
      "1         Agricultural\n",
      "2               Anchor\n",
      "3      Assisted Living\n",
      "4        Community Ctr\n",
      "5             Day Care\n",
      "6      Distr Warehouse\n",
      "7  Du / Tri / Fourplex\n",
      "8        Econ. Service\n",
      "9           Flex Space\n"
     ]
    },
    {
     "data": {
      "text/plain": []
     },
     "execution_count": 95,
     "metadata": {},
     "output_type": "execute_result"
    }
   ],
   "source": [
    "#prcnadrp['target']=prcnadrp['listing price'].asnumeric\n",
    "prcnadrp['property type'].unique()"
   ]
  },
  {
   "cell_type": "code",
   "execution_count": 108,
   "metadata": {
    "collapsed": true
   },
   "outputs": [],
   "source": [
    "#split into training and testing data set \n",
    "train_set=prcnadrp[random_idx<0.7]\n",
    "test_set=prcnadrp[random_idx>=0.7]\n"
   ]
  },
  {
   "cell_type": "code",
   "execution_count": 109,
   "metadata": {
    "collapsed": false
   },
   "outputs": [
    {
     "name": "stdout",
     "output_type": "stream",
     "text": [
      "0.46\n"
     ]
    }
   ],
   "source": [
    "#export data set into data frame (temp df)\n",
    "temp_df=prcnadrp.as_data_frame()\n",
    "\n",
    "#count number of True and False\n",
    "num_false=temp_df.iloc[:,idx_response].value_counts()[0]\n",
    "num_true=temp_df.iloc[:,idx_response].value_counts()[1]\n",
    "\n",
    "#delete temp_df from memory \n",
    "del temp_df\n",
    "\n",
    "#calculate ratio\n",
    "ratio_true=float(num_true)/(num_false+num_true)\n",
    "\n",
    "#print out of the ratio\n",
    "print round(ratio_true,3)"
   ]
  },
  {
   "cell_type": "code",
   "execution_count": 110,
   "metadata": {
    "collapsed": false
   },
   "outputs": [
    {
     "name": "stdout",
     "output_type": "stream",
     "text": [
      "0.463\n",
      "0.492\n"
     ]
    }
   ],
   "source": [
    "# export data set into data frame(temp df)\n",
    "temp_df_train=train_set.as_data_frame()\n",
    "temp_df_test=test_set.as_data_frame()\n",
    "\n",
    "#count number of True and False\n",
    "num_false_train=temp_df_train.iloc[:,idx_response].value_counts()[0]\n",
    "num_false_test=temp_df_test.iloc[:,idx_response].value_counts()[0]\n",
    "\n",
    "num_true_train=temp_df_train.iloc[:,idx_response].value_counts()[1]\n",
    "num_true_test=temp_df_test.iloc[:,idx_response].value_counts()[1]\n",
    "\n",
    "#delete temp_df from memory\n",
    "del temp_df_train \n",
    "del temp_df_test \n",
    "\n",
    "#calculate ratio\n",
    "ratio_true_train=float(num_true_train)/(num_false_train +num_true_train)\n",
    "ratio_true_test=float(num_true_test)/(num_false_test+num_true_test)\n",
    "\n",
    "#print out the ratio\n",
    "print round(ratio_true_train,3)\n",
    "print round(ratio_true_test,3)"
   ]
  },
  {
   "cell_type": "code",
   "execution_count": 111,
   "metadata": {
    "collapsed": false
   },
   "outputs": [
    {
     "name": "stdout",
     "output_type": "stream",
     "text": [
      "0.339\n",
      "0.121\n"
     ]
    }
   ],
   "source": [
    "#holdout splits\n",
    "#a vector with uniformly distributed numbers between 0 and 1 \n",
    "random_idx=train_set[idx_response].runif()\n",
    "\n",
    "#split the data set into two holdout sets \n",
    "\n",
    "train_holdout_hex=train_set[random_idx<0.8]\n",
    "validation_holdout_hex=train_set[random_idx>=0.8]\n",
    "\n",
    "#export data set into data frame (temp df)\n",
    "temp_df_train=train_holdout_hex.as_data_frame()\n",
    "temp_df_valid=validation_holdout_hex.as_data_frame()\n",
    "\n",
    "#count number of True and False\n",
    "num_false_train=temp_df_train.iloc[:,idx_response].value_counts()[0]\n",
    "num_false_valid=temp_df_valid.iloc[:,idx_response].value_counts()[0]\n",
    "\n",
    "num_true_train=temp_df_train.iloc[:,idx_response].value_counts()[1]\n",
    "num_true_valid=temp_df_valid.iloc[:,idx_response].value_counts()[1]\n",
    "\n",
    "#delete temp_df from memory \n",
    "del temp_df_train, temp_df_valid \n",
    "\n",
    "#calculate ratio \n",
    "ratio_true_train=float(num_true_train)/(num_false_train + num_true)\n",
    "ratio_true_valid=float(num_true_valid)/(num_false_valid+num_true)\n",
    "\n",
    "#print out the ratio \n",
    "print round(ratio_true_train,3)\n",
    "print round(ratio_true_valid,3)"
   ]
  },
  {
   "cell_type": "code",
   "execution_count": 158,
   "metadata": {
    "collapsed": false
   },
   "outputs": [
    {
     "name": "stdout",
     "output_type": "stream",
     "text": [
      "[u'street address', u'city', u'state', u'zip code', u'listing price', u'property name', u'size sf', u'property class', u'cap rate'] 9 \n",
      "\n",
      "property type\n"
     ]
    }
   ],
   "source": [
    "print features, len(features),'\\n'\n",
    "print response"
   ]
  },
  {
   "cell_type": "code",
   "execution_count": 112,
   "metadata": {
    "collapsed": true
   },
   "outputs": [],
   "source": [
    "#GBM model development \n",
    "#range of grid search \n",
    "range_ntrees=np.arange(500,10000,100)\n",
    "range_depth=np.arange(2,4,1)\n",
    "range_min_rows=np.arange(10,20,1)\n",
    "\n",
    "#sampling number\n",
    "num_models=10"
   ]
  },
  {
   "cell_type": "code",
   "execution_count": 113,
   "metadata": {
    "collapsed": false
   },
   "outputs": [
    {
     "name": "stdout",
     "output_type": "stream",
     "text": [
      "\n",
      "gbm Model Build Progress: [##################################################] 100%\n",
      "\n",
      "gbm Model Build Progress: [##################################################] 100%\n",
      "\n",
      "gbm Model Build Progress: [##################################################] 100%\n",
      "\n",
      "gbm Model Build Progress: [##################################################] 100%\n",
      "\n",
      "gbm Model Build Progress: [##################################################] 100%\n",
      "\n",
      "gbm Model Build Progress: [##################################################] 100%\n",
      "\n",
      "gbm Model Build Progress: [##################################################] 100%\n",
      "\n",
      "gbm Model Build Progress: [##################################################] 100%\n",
      "\n",
      "gbm Model Build Progress: [##################################################] 100%\n",
      "\n",
      "gbm Model Build Progress: [##################################################] 100%\n"
     ]
    }
   ],
   "source": [
    "#define empty list to store the models \n",
    "gbm_models=[]\n",
    "\n",
    "#loop over\n",
    "for id_model in range(num_models):\n",
    "    \n",
    "    #choose mode parameters \n",
    "    ntree=random.sample(range_ntrees,1)[0]\n",
    "    depth=random.sample(range_depth,1)[0]\n",
    "    min_rows=random.sample(range_min_rows,1)[0]\n",
    "    \n",
    "    #build model \n",
    "    params_model={'x': features,\n",
    "                  'y': response,\n",
    "                  'training_frame':training_holdout_hex,\n",
    "                  'validation_frame':validation_holdout_hex,\n",
    "                  'ntrees':ntree,\n",
    "                  'max_depth':depth,\n",
    "                  'learn_rate':0.01\n",
    "                  }\n",
    "    gbm_model=h2o.gbm(**params_model)\n",
    "    \n",
    "    # store model \n",
    "    gbm_models.append(gbm_model)\n",
    "                 "
   ]
  },
  {
   "cell_type": "code",
   "execution_count": 177,
   "metadata": {
    "collapsed": false
   },
   "outputs": [
    {
     "name": "stdout",
     "output_type": "stream",
     "text": [
      "H2OFrame with 10 rows and 10 columns: \n",
      "                street address        city state  zip code listing price  \\\n",
      "0    2907 East South Boulevard  Montgomery    AL     36116    $2,945,000   \n",
      "1            5860 Endeavor Way      Tanner    AL     35671    $5,749,800   \n",
      "2        1524 East 10th Street    Anniston    AL     36207    $2,690,000   \n",
      "3          5510 McFarland Blvd   Northport    AL     35476    $3,950,000   \n",
      "4    2907 East South Boulevard  Montgomery    AL     36116    $2,945,000   \n",
      "5  2608 West Meighan Boulevard     Gadsden    AL     35904    $4,406,000   \n",
      "6          5510 McFarland Blvd   Northport    AL     35476    $3,950,000   \n",
      "7                      Hwy 280     Chelsea    AL     35043      $995,000   \n",
      "8           7033 Airport Blvd.      Mobile    AL     36608    $6,979,412   \n",
      "9            5271 Endeavor Way  Huntsville    AL     35671   $15,514,000   \n",
      "\n",
      "                                       property name    property type  \\\n",
      "0  One Center - $30MM Anchors Underway. 20% Final...      Office Bldg   \n",
      "1                    AL-130 SouthPoint Business Park  Indust Biz Park   \n",
      "2         Lagarde Apartments 10% down Bank Financing    Mid High Rise   \n",
      "3                          Big Lots / Tractor Supply        Strip Ctr   \n",
      "4  One Center - $30MM Anchors Underway. 20% Final...      Office Bldg   \n",
      "5          CVS/pharmacy | 18+ Yr Lease | BBB+ Credit    Free Std Bldg   \n",
      "6                          Big Lots / Tractor Supply        Strip Ctr   \n",
      "7                               Hwy 280E & Essex Rd.      Resid. Land   \n",
      "8            Education Affiliates DBA Fortis College    Free Std Bldg   \n",
      "9                    AL-159 SouthPoint Business Park  Distr Warehouse   \n",
      "\n",
      "   size sf  property class  cap rate  \n",
      "0  256,333             NaN       NaN  \n",
      "1  108,960             NaN       NaN  \n",
      "2   53,000              67    0.1000  \n",
      "3   58,035             NaN    0.0715  \n",
      "4  256,333             NaN       NaN  \n",
      "5   11,945             NaN    0.0610  \n",
      "6   58,035             NaN    0.0715  \n",
      "7    29.75             NaN       NaN  \n",
      "8   35,000             NaN    0.0850  \n",
      "9  327,600             NaN       NaN  \n"
     ]
    },
    {
     "data": {
      "text/plain": []
     },
     "execution_count": 177,
     "metadata": {},
     "output_type": "execute_result"
    }
   ],
   "source": [
    "# ROC curve \n",
    "#gbm_models[0].model_performance()\n",
    "test_set.head()"
   ]
  },
  {
   "cell_type": "code",
   "execution_count": 144,
   "metadata": {
    "collapsed": false
   },
   "outputs": [
    {
     "name": "stdout",
     "output_type": "stream",
     "text": [
      "H2OFrame with 891 rows and 60 columns: \n",
      "           predict      Agri Biz  Agricultural        Anchor  Assisted Living  \\\n",
      "0    Free Std Bldg  6.392276e-05  3.866805e-23  2.977840e-32     2.996282e-32   \n",
      "1  Distr Warehouse  5.876863e-10  7.330165e-27  2.736807e-37     1.763991e-36   \n",
      "2             Mfg.  7.883240e-10  4.752531e-28  3.670137e-37     2.659947e-29   \n",
      "3    Multifam Land  2.069746e-12  1.067677e-03  9.642668e-40     1.373532e-12   \n",
      "4    Free Std Bldg  6.392276e-05  3.866805e-23  2.977840e-32     2.996282e-32   \n",
      "5   Off. Warehouse  7.333598e-13  3.783031e-04  3.416624e-40     4.683481e-13   \n",
      "6    Multifam Land  2.069746e-12  1.067677e-03  9.642668e-40     1.373532e-12   \n",
      "7     Self Storage  7.694458e-12  4.639859e-30  3.582571e-39     7.628662e-37   \n",
      "8     Other Retail  2.610557e-07  1.578925e-25  1.216127e-34     1.223479e-34   \n",
      "9     Medical Off.  3.238099e-09  2.338959e-27  1.508555e-36     1.651890e-36   \n",
      "\n",
      "   Community Ctr      Day Care  Distr Warehouse  Du / Tri / Fourplex  \\\n",
      "0   6.392276e-05  6.392276e-05     5.554912e-25         4.370468e-24   \n",
      "1   5.876863e-10  5.876863e-10     1.000000e+00         4.011496e-29   \n",
      "2   7.883240e-10  7.883240e-10     4.255855e-30         5.924076e-22   \n",
      "3   2.069746e-12  2.069746e-12     3.521856e-03         1.952796e-28   \n",
      "4   6.392276e-05  6.392276e-05     5.554912e-25         4.370468e-24   \n",
      "5   7.333598e-13  7.333598e-13     1.247876e-03         5.341840e-29   \n",
      "6   2.069746e-12  2.069746e-12     3.521856e-03         1.952796e-28   \n",
      "7   7.694458e-12  7.694458e-12     1.232822e-31         5.250081e-31   \n",
      "8   2.610557e-07  2.610557e-07     7.447146e-28         3.089145e-26   \n",
      "9   3.238099e-09  3.238099e-09     6.048719e-29         2.214091e-28   \n",
      "\n",
      "   Econ. Service      ...                SFR  Self Storage  Specialty Ctr  \\\n",
      "0   9.663052e-23      ...       2.091170e-23  3.205378e-20   6.392276e-05   \n",
      "1   8.874984e-28      ...       5.883713e-28  2.555184e-26   5.876863e-10   \n",
      "2   2.375310e-15      ...       1.311641e-28  3.828691e-25   7.883240e-10   \n",
      "3   1.191869e-05      ...       1.039836e-03  1.060595e-02   2.069746e-12   \n",
      "4   9.663052e-23      ...       2.091170e-23  3.205378e-20   6.392276e-05   \n",
      "5   4.223074e-06      ...       3.684382e-04  4.325489e-02   7.333598e-13   \n",
      "6   1.191869e-05      ...       1.039836e-03  1.060595e-02   2.069746e-12   \n",
      "7   1.355294e-28      ...       4.239021e-29  1.000000e+00   7.694458e-12   \n",
      "8   3.946317e-25      ...       4.615400e-26  1.424332e-22   2.610557e-07   \n",
      "9   5.722471e-27      ...       1.138343e-27  8.115355e-25   3.238099e-09   \n",
      "\n",
      "   Street Retail     Strip Ctr       Theatre    Timberland    Truck Term  \\\n",
      "0   5.393102e-24  9.615998e-14  6.392276e-05  1.716501e-23  6.392276e-05   \n",
      "1   4.950469e-29  8.840654e-19  5.876863e-10  2.976723e-26  5.876863e-10   \n",
      "2   2.002965e-22  1.764504e-07  7.883240e-10  2.019291e-28  7.883240e-10   \n",
      "3   1.931475e-18  3.733193e-16  2.069746e-12  9.376706e-04  2.069746e-12   \n",
      "4   5.393102e-24  9.615998e-14  6.392276e-05  1.716501e-23  6.392276e-05   \n",
      "5   6.843671e-19  1.103204e-21  7.333598e-13  3.322388e-04  7.333598e-13   \n",
      "6   1.931475e-18  3.733193e-16  2.069746e-12  9.376706e-04  2.069746e-12   \n",
      "7   3.051980e-34  2.627202e-20  7.694458e-12  3.225237e-30  7.694458e-12   \n",
      "8   6.644518e-20  2.429707e-05  2.610557e-07  7.024904e-26  2.610557e-07   \n",
      "9   2.732018e-28  4.871121e-18  3.238099e-09  1.321242e-27  3.238099e-09   \n",
      "\n",
      "   Vehicle Retail     Warehouse  \n",
      "0    2.726673e-23  4.068792e-10  \n",
      "1    3.074002e-26  2.900543e-18  \n",
      "2    3.205125e-28  1.812364e-15  \n",
      "3    1.057405e-03  3.901774e-18  \n",
      "4    2.726673e-23  4.068792e-10  \n",
      "5    3.746635e-04  5.265059e-21  \n",
      "6    1.057405e-03  3.901774e-18  \n",
      "7    3.132164e-30  1.589009e-16  \n",
      "8    1.128356e-25  2.869836e-09  \n",
      "9    1.564539e-27  1.211311e-12  \n",
      "\n",
      "[10 rows x 60 columns]\n"
     ]
    },
    {
     "data": {
      "text/plain": []
     },
     "execution_count": 144,
     "metadata": {},
     "output_type": "execute_result"
    }
   ],
   "source": [
    "gbm_models[0].predict(test_set)"
   ]
  },
  {
   "cell_type": "code",
   "execution_count": 148,
   "metadata": {
    "collapsed": false
   },
   "outputs": [
    {
     "name": "stdout",
     "output_type": "stream",
     "text": [
      "\n",
      "ModelMetricsMultinomial: gbm\n",
      "** Reported on test data. **\n",
      "\n",
      "MSE: 0.856424941996\n",
      "R^2: 0.996082077923\n",
      "LogLoss: 20.2525529062\n",
      "    Agri Biz  Agricultural  Anchor  Assisted Living  Community Ctr  Day Care  \\\n",
      "0          0             2       0                0              0         0   \n",
      "1          0             3       0                0              0         0   \n",
      "2          0             0       0                0              0         0   \n",
      "3          0             0       0                0              0         0   \n",
      "4          0             1       0                0              0         0   \n",
      "5          0             0       0                0              0         0   \n",
      "6          0             1       0                0              0         0   \n",
      "7          0             3       0                0              0         0   \n",
      "8          0             0       0                0              0         0   \n",
      "9          0             0       0                0              0         0   \n",
      "..       ...           ...     ...              ...            ...       ...   \n",
      "50         0             0       0                0              0         0   \n",
      "51         0             0       0                0              0         0   \n",
      "52         0             1       0                0              0         0   \n",
      "53         0             3       0                0              0         0   \n",
      "54         0             0       0                0              0         0   \n",
      "55         0             0       0                0              0         0   \n",
      "56         0             0       0                0              0         0   \n",
      "57         0             1       0                0              0         0   \n",
      "58         0             4       0                0              0         0   \n",
      "59         0            47       1                1              0         0   \n",
      "\n",
      "    Distr Warehouse  Du / Tri / Fourplex  Econ. Service  Flex Space  \\\n",
      "0                 0                    0              1           0   \n",
      "1                 0                    0              0           0   \n",
      "2                 0                    0              0           0   \n",
      "3                 0                    0              0           0   \n",
      "4                 0                    0              0           0   \n",
      "5                 0                    0              0           0   \n",
      "6                 0                    0              0           0   \n",
      "7                 0                    1              0           0   \n",
      "8                 0                    0              5           0   \n",
      "9                 0                    0              0           4   \n",
      "..              ...                  ...            ...         ...   \n",
      "50                0                    0              0           0   \n",
      "51                0                    0              0           0   \n",
      "52                0                    0              0           0   \n",
      "53                0                    0              0           0   \n",
      "54                0                    0              0           0   \n",
      "55                0                    0              0           0   \n",
      "56                0                    0              0           0   \n",
      "57                0                    0              0           0   \n",
      "58                0                    1              0           1   \n",
      "59                3                    9             31          11   \n",
      "\n",
      "      ...      Specialty Ctr  Street Retail  Strip Ctr  Theatre  Timberland  \\\n",
      "0     ...                  0              0          1        0           0   \n",
      "1     ...                  0              0          0        0           0   \n",
      "2     ...                  0              0          0        0           0   \n",
      "3     ...                  0              0          0        0           0   \n",
      "4     ...                  0              0          0        0           0   \n",
      "5     ...                  0              0          0        0           0   \n",
      "6     ...                  0              0          0        0           0   \n",
      "7     ...                  0              0          0        0           0   \n",
      "8     ...                  0              0          0        0           0   \n",
      "9     ...                  0              0          0        0           0   \n",
      "..    ...                ...            ...        ...      ...         ...   \n",
      "50    ...                  0              0          0        0           0   \n",
      "51    ...                  0              0          1        0           0   \n",
      "52    ...                  0              0          0        0           0   \n",
      "53    ...                  0              0          1        0           0   \n",
      "54    ...                  0              0          0        0           0   \n",
      "55    ...                  0              0          0        0           0   \n",
      "56    ...                  0              0          0        0           0   \n",
      "57    ...                  0              0          0        0           0   \n",
      "58    ...                  0              0          0        0           0   \n",
      "59    ...                  0              6         12        0           4   \n",
      "\n",
      "    Truck Term  Vehicle Retail  Warehouse     Error       Rate  \n",
      "0            0               0          0  1.000000      4 / 4  \n",
      "1            0               0          0  0.625000      5 / 8  \n",
      "2            0               0          0  1.000000      5 / 5  \n",
      "3            0               0          0  1.000000      3 / 3  \n",
      "4            0               0          0  1.000000      2 / 2  \n",
      "5            0               0          0  1.000000      1 / 1  \n",
      "6            0               0          0  1.000000      4 / 4  \n",
      "7            0               0          1  0.928571    13 / 14  \n",
      "8            0               0          0  0.444444      4 / 9  \n",
      "9            0               0          2  0.846154    22 / 26  \n",
      "..         ...             ...        ...       ...        ...  \n",
      "50           0               0          0       NaN      0 / 0  \n",
      "51           0               0          0  1.000000      1 / 1  \n",
      "52           0               0          0  1.000000    13 / 13  \n",
      "53           0               0          0  0.964286    27 / 28  \n",
      "54           0               0          0       NaN      0 / 0  \n",
      "55           0               0          0  1.000000      2 / 2  \n",
      "56           0               0          0  1.000000      1 / 1  \n",
      "57           0               1          0  0.875000      7 / 8  \n",
      "58           0               0          2  0.937500    30 / 32  \n",
      "59           0               3         14  0.858116  756 / 881  \n",
      "\n",
      "[60 rows x 61 columns]\n",
      "    k  hit_ratio\n",
      "0   1   0.141884\n",
      "1   2   0.187287\n",
      "2   3   0.224745\n",
      "3   4   0.231555\n",
      "4   5   0.237230\n",
      "5   6   0.241771\n",
      "6   7   0.246311\n",
      "7   8   0.253121\n",
      "8   9   0.254257\n",
      "9  10   0.259932\n"
     ]
    },
    {
     "data": {
      "text/plain": []
     },
     "execution_count": 148,
     "metadata": {},
     "output_type": "execute_result"
    }
   ],
   "source": [
    "gbm_model.model_performance(test_set)"
   ]
  },
  {
   "cell_type": "code",
   "execution_count": 146,
   "metadata": {
    "collapsed": false
   },
   "outputs": [
    {
     "ename": "AttributeError",
     "evalue": "'H2OMultinomialModel' object has no attribute 'roc'",
     "output_type": "error",
     "traceback": [
      "\u001b[1;31m---------------------------------------------------------------------------\u001b[0m",
      "\u001b[1;31mAttributeError\u001b[0m                            Traceback (most recent call last)",
      "\u001b[1;32m<ipython-input-146-ce4a0567f488>\u001b[0m in \u001b[0;36m<module>\u001b[1;34m()\u001b[0m\n\u001b[1;32m----> 1\u001b[1;33m \u001b[0mgbm_model_roc\u001b[0m\u001b[1;33m=\u001b[0m\u001b[0mgbm_model\u001b[0m\u001b[1;33m.\u001b[0m\u001b[0mroc\u001b[0m\u001b[1;33m(\u001b[0m\u001b[0mvalid\u001b[0m\u001b[1;33m=\u001b[0m\u001b[0mTrue\u001b[0m\u001b[1;33m)\u001b[0m\u001b[1;33m\u001b[0m\u001b[0m\n\u001b[0m",
      "\u001b[1;31mAttributeError\u001b[0m: 'H2OMultinomialModel' object has no attribute 'roc'"
     ]
    }
   ],
   "source": [
    "gbm_model_roc=gbm_model.roc(valid=True)"
   ]
  },
  {
   "cell_type": "code",
   "execution_count": 132,
   "metadata": {
    "collapsed": false
   },
   "outputs": [
    {
     "ename": "NameError",
     "evalue": "name 'plot' is not defined",
     "output_type": "error",
     "traceback": [
      "\u001b[1;31m---------------------------------------------------------------------------\u001b[0m",
      "\u001b[1;31mNameError\u001b[0m                                 Traceback (most recent call last)",
      "\u001b[1;32m<ipython-input-132-ab277f0e3b10>\u001b[0m in \u001b[0;36m<module>\u001b[1;34m()\u001b[0m\n\u001b[1;32m----> 1\u001b[1;33m \u001b[0mplot\u001b[0m\u001b[1;33m(\u001b[0m\u001b[0mtype\u001b[0m\u001b[1;33m=\u001b[0m\u001b[1;34m'roc'\u001b[0m\u001b[1;33m,\u001b[0m \u001b[0mtrain\u001b[0m\u001b[1;33m=\u001b[0m\u001b[0mFalse\u001b[0m\u001b[1;33m,\u001b[0m \u001b[0mvalid\u001b[0m\u001b[1;33m=\u001b[0m\u001b[0mFalse\u001b[0m\u001b[1;33m,\u001b[0m \u001b[1;33m**\u001b[0m\u001b[0mkwargs\u001b[0m\u001b[1;33m)\u001b[0m\u001b[1;33m\u001b[0m\u001b[0m\n\u001b[0m\u001b[0;32m      2\u001b[0m \u001b[1;31m#tnr(thresholds=None, train=False, valid=False)\u001b[0m\u001b[1;33m\u001b[0m\u001b[1;33m\u001b[0m\u001b[0m\n",
      "\u001b[1;31mNameError\u001b[0m: name 'plot' is not defined"
     ]
    }
   ],
   "source": [
    "#plot(type='roc', train=False, valid=False, **kwargs)\n",
    "#tnr(thresholds=None, train=False, valid=False)"
   ]
  },
  {
   "cell_type": "code",
   "execution_count": 175,
   "metadata": {
    "collapsed": false
   },
   "outputs": [
    {
     "name": "stdout",
     "output_type": "stream",
     "text": [
      "    Agri Biz  Agricultural  Anchor  Assisted Living  Community Ctr  Day Care  \\\n",
      "0          0             2       0                0              0         0   \n",
      "1          0             3       0                0              0         0   \n",
      "2          0             0       0                0              0         0   \n",
      "3          0             0       0                0              0         0   \n",
      "4          0             1       0                0              0         0   \n",
      "5          0             0       0                0              0         0   \n",
      "6          0             1       0                0              0         0   \n",
      "7          0             3       0                0              0         0   \n",
      "8          0             0       0                0              0         0   \n",
      "9          0             0       0                0              0         0   \n",
      "..       ...           ...     ...              ...            ...       ...   \n",
      "50         0             0       0                0              0         0   \n",
      "51         0             0       0                0              0         0   \n",
      "52         0             1       0                0              0         0   \n",
      "53         0             3       0                0              0         0   \n",
      "54         0             0       0                0              0         0   \n",
      "55         0             0       0                0              0         0   \n",
      "56         0             0       0                0              0         0   \n",
      "57         0             1       0                0              0         0   \n",
      "58         0             4       0                0              0         0   \n",
      "59         0            47       1                1              0         0   \n",
      "\n",
      "    Distr Warehouse  Du / Tri / Fourplex  Econ. Service  Flex Space  \\\n",
      "0                 0                    0              1           0   \n",
      "1                 0                    0              0           0   \n",
      "2                 0                    0              0           0   \n",
      "3                 0                    0              0           0   \n",
      "4                 0                    0              0           0   \n",
      "5                 0                    0              0           0   \n",
      "6                 0                    0              0           0   \n",
      "7                 0                    1              0           0   \n",
      "8                 0                    0              5           0   \n",
      "9                 0                    0              0           4   \n",
      "..              ...                  ...            ...         ...   \n",
      "50                0                    0              0           0   \n",
      "51                0                    0              0           0   \n",
      "52                0                    0              0           0   \n",
      "53                0                    0              0           0   \n",
      "54                0                    0              0           0   \n",
      "55                0                    0              0           0   \n",
      "56                0                    0              0           0   \n",
      "57                0                    0              0           0   \n",
      "58                0                    1              0           1   \n",
      "59                3                    9             31          11   \n",
      "\n",
      "      ...      Specialty Ctr  Street Retail  Strip Ctr  Theatre  Timberland  \\\n",
      "0     ...                  0              0          1        0           0   \n",
      "1     ...                  0              0          0        0           0   \n",
      "2     ...                  0              0          0        0           0   \n",
      "3     ...                  0              0          0        0           0   \n",
      "4     ...                  0              0          0        0           0   \n",
      "5     ...                  0              0          0        0           0   \n",
      "6     ...                  0              0          0        0           0   \n",
      "7     ...                  0              0          0        0           0   \n",
      "8     ...                  0              0          0        0           0   \n",
      "9     ...                  0              0          0        0           0   \n",
      "..    ...                ...            ...        ...      ...         ...   \n",
      "50    ...                  0              0          0        0           0   \n",
      "51    ...                  0              0          1        0           0   \n",
      "52    ...                  0              0          0        0           0   \n",
      "53    ...                  0              0          1        0           0   \n",
      "54    ...                  0              0          0        0           0   \n",
      "55    ...                  0              0          0        0           0   \n",
      "56    ...                  0              0          0        0           0   \n",
      "57    ...                  0              0          0        0           0   \n",
      "58    ...                  0              0          0        0           0   \n",
      "59    ...                  0              6         12        0           4   \n",
      "\n",
      "    Truck Term  Vehicle Retail  Warehouse     Error       Rate  \n",
      "0            0               0          0  1.000000      4 / 4  \n",
      "1            0               0          0  0.625000      5 / 8  \n",
      "2            0               0          0  1.000000      5 / 5  \n",
      "3            0               0          0  1.000000      3 / 3  \n",
      "4            0               0          0  1.000000      2 / 2  \n",
      "5            0               0          0  1.000000      1 / 1  \n",
      "6            0               0          0  1.000000      4 / 4  \n",
      "7            0               0          1  0.928571    13 / 14  \n",
      "8            0               0          0  0.444444      4 / 9  \n",
      "9            0               0          2  0.846154    22 / 26  \n",
      "..         ...             ...        ...       ...        ...  \n",
      "50           0               0          0       NaN      0 / 0  \n",
      "51           0               0          0  1.000000      1 / 1  \n",
      "52           0               0          0  1.000000    13 / 13  \n",
      "53           0               0          0  0.964286    27 / 28  \n",
      "54           0               0          0       NaN      0 / 0  \n",
      "55           0               0          0  1.000000      2 / 2  \n",
      "56           0               0          0  1.000000      1 / 1  \n",
      "57           0               1          0  0.875000      7 / 8  \n",
      "58           0               0          2  0.937500    30 / 32  \n",
      "59           0               3         14  0.858116  756 / 881  \n",
      "\n",
      "[60 rows x 61 columns]\n"
     ]
    },
    {
     "data": {
      "text/plain": []
     },
     "execution_count": 175,
     "metadata": {},
     "output_type": "execute_result"
    }
   ],
   "source": [
    "#auc(train=False, valid=False)\n",
    "gbm_model.confusion_matrix(test_set)\n",
    "#hit_ratio_table(train=False, valid=False)"
   ]
  },
  {
   "cell_type": "code",
   "execution_count": 174,
   "metadata": {
    "collapsed": false
   },
   "outputs": [
    {
     "ename": "AttributeError",
     "evalue": "'H2OMultinomialModel' object has no attribute 'plot'",
     "output_type": "error",
     "traceback": [
      "\u001b[1;31m---------------------------------------------------------------------------\u001b[0m",
      "\u001b[1;31mAttributeError\u001b[0m                            Traceback (most recent call last)",
      "\u001b[1;32m<ipython-input-174-7f9b09c432bf>\u001b[0m in \u001b[0;36m<module>\u001b[1;34m()\u001b[0m\n\u001b[0;32m      1\u001b[0m \u001b[1;31m#gbm_model.model_performance(valid=True)\u001b[0m\u001b[1;33m\u001b[0m\u001b[1;33m\u001b[0m\u001b[0m\n\u001b[1;32m----> 2\u001b[1;33m \u001b[0mgbm_models\u001b[0m\u001b[1;33m[\u001b[0m\u001b[1;36m0\u001b[0m\u001b[1;33m]\u001b[0m\u001b[1;33m.\u001b[0m\u001b[0mplot\u001b[0m\u001b[1;33m(\u001b[0m\u001b[0mtype\u001b[0m\u001b[1;33m=\u001b[0m\u001b[1;34m'roc'\u001b[0m\u001b[1;33m,\u001b[0m \u001b[0mtrain\u001b[0m\u001b[1;33m=\u001b[0m\u001b[0mFalse\u001b[0m\u001b[1;33m,\u001b[0m \u001b[0mvalid\u001b[0m\u001b[1;33m=\u001b[0m\u001b[0mFalse\u001b[0m\u001b[1;33m,\u001b[0m \u001b[1;33m**\u001b[0m\u001b[0mkwargs\u001b[0m\u001b[1;33m)\u001b[0m\u001b[1;33m\u001b[0m\u001b[0m\n\u001b[0m",
      "\u001b[1;31mAttributeError\u001b[0m: 'H2OMultinomialModel' object has no attribute 'plot'"
     ]
    }
   ],
   "source": [
    "#gbm_model.model_performance(valid=True)\n",
    "#gbm_models[0].plot(type='roc', train=False, valid=False, **kwargs)"
   ]
  },
  {
   "cell_type": "code",
   "execution_count": null,
   "metadata": {
    "collapsed": true
   },
   "outputs": [],
   "source": []
  }
 ],
 "metadata": {
  "kernelspec": {
   "display_name": "Python 2",
   "language": "python",
   "name": "python2"
  },
  "language_info": {
   "codemirror_mode": {
    "name": "ipython",
    "version": 2
   },
   "file_extension": ".py",
   "mimetype": "text/x-python",
   "name": "python",
   "nbconvert_exporter": "python",
   "pygments_lexer": "ipython2",
   "version": "2.7.11"
  }
 },
 "nbformat": 4,
 "nbformat_minor": 0
}
